{
 "cells": [
  {
   "cell_type": "markdown",
   "metadata": {},
   "source": [
    "# Intermediate Python Crash Course"
   ]
  },
  {
   "cell_type": "code",
   "execution_count": 112,
   "metadata": {},
   "outputs": [
    {
     "name": "stdout",
     "output_type": "stream",
     "text": [
      "2024-08-17 12:14:46.855444\n",
      "Hello John Doe\n",
      "Hello Dark Knight\n",
      "30.5\n",
      "The Volvo XC90 is red and has 200 hp\n",
      "The Volvo is being driven\n",
      "Volvo XC90 red 200\n",
      "BMW X5 blue 300\n",
      "Volvo & BMW\n"
     ]
    }
   ],
   "source": [
    "# Python Concepts\n",
    "\n",
    "# 1. main.py\n",
    "# This is the main file that will be executed\n",
    "# This file will import the module and\n",
    "# call the functions defined in the module\n",
    "\n",
    "# 2. basic data types\n",
    "number : int = 10\n",
    "decimal : float = 10.5\n",
    "string : str = \"Hello World\"\n",
    "boolean : bool = True\n",
    "\n",
    "names : list = [\"John\", \"Doe\", \"Jane\", \"Doe\"]\n",
    "ages : tuple = (20, 30, 40, 50)\n",
    "unique : set = {1, 2, 3, 4, 5}\n",
    "data : dict = {\"name\": \"John Doe\", \"age\": 30}\n",
    "\n",
    "# 3. type annotations\n",
    "# type annotations are used to specify the type of a variable\n",
    "# type annotations are optional\n",
    "# type annotations can be used to specify the type of function arguments and return type\n",
    "# best analogy - like traffic lights, you still can make a mistake of crossing the road when the light is red\n",
    "name : str = \"John Doe\"\n",
    "age : int = 30\n",
    "\n",
    "try: \n",
    "    age = '10k'\n",
    "except:\n",
    "    print(\"Cannot assign int to str\") # wont print - just an alert for programmers\n",
    "\n",
    "# 4. constants\n",
    "# constants are variables whose values cannot be changed\n",
    "# in python, constants are defined using uppercase letters and underscore\n",
    "# constants are defined using the assignment operator\n",
    "# constants are defined using the type annotations\n",
    "# constants are defined using the float, int, str, list, tuple, set, dict classes\n",
    "# constants can also be defined using the Final class\n",
    "\n",
    "PI : float = 3.14159\n",
    "GRAVITY : float = 9.8\n",
    "\n",
    "# another way to define constants is by using the Final class\n",
    "from typing import Final # NEW in Python 3.8\n",
    "VERSION : Final[str] = \"1.0.0\"\n",
    "\n",
    "\n",
    "# 5. Reusable code - Functions can make your code reusable\n",
    "# code can be reused by defining functions\n",
    "# functions are defined using the def keyword\n",
    "# functions can take arguments and return values\n",
    "# functions can have type annotations\n",
    "# functions can have default arguments\n",
    "# functions can have keyword arguments\n",
    "# functions can have variable number of arguments\n",
    "# functions can have variable number of keyword arguments\n",
    "# functions can have type annotations for arguments and return values\n",
    "# functions can have type annotations for variables\n",
    "# functions can have type annotations for return values\n",
    "\n",
    "from datetime import datetime\n",
    "\n",
    "def show_date() -> None:\n",
    "    '''\n",
    "    This function displays the current date and time\n",
    "\n",
    "    Parameters:\n",
    "    None\n",
    "\n",
    "    Returns:\n",
    "    None\n",
    "    '''\n",
    "    print(datetime.now())\n",
    "\n",
    "show_date()\n",
    "\n",
    "def greet(name: str) -> str:\n",
    "    '''\n",
    "    This function greets the user\n",
    "\n",
    "    Parameters:\n",
    "    name (str): The name of the user\n",
    "\n",
    "    Returns:\n",
    "    str: The greeting message\n",
    "    '''\n",
    "    return f\"Hello {name}\"\n",
    "\n",
    "print(greet(\"John Doe\"))\n",
    "print(greet(\"Dark Knight\"))\n",
    "\n",
    "def add(a: int, b: float) -> float:\n",
    "    '''\n",
    "    This functions adds two numericla values and returns the sum of the values\n",
    "\n",
    "    Parameters:\n",
    "    a (int): The first number\n",
    "    b (float): The second number\n",
    "\n",
    "    Returns:\n",
    "    float: The sum of the two numbers\n",
    "    '''\n",
    "    return a + b\n",
    "\n",
    "print(add(10, 20.5))\n",
    "\n",
    "# 6. Classes - Blueprint of the code\n",
    "\n",
    "class Car:\n",
    "    def __init__(self, color: str, hp: int, model: str, brand: str) -> None:\n",
    "        self.color = color\n",
    "        self.hp = hp\n",
    "        self.model = model\n",
    "        self.brand = brand\n",
    "    \n",
    "    def drive(self) -> None:\n",
    "        print(f\"The {self.brand} is being driven\")\n",
    "\n",
    "    def get_info(self) -> str:\n",
    "        return f\"The {self.brand} {self.model} is {self.color} and has {self.hp} hp\"\n",
    "    \n",
    "    def __str__(self) -> str:\n",
    "        return f\"{self.brand} {self.model} {self.color} {self.hp}\"\n",
    "    \n",
    "    def __add__(self, other: Car) -> str: # type: ignore\n",
    "        return f\"{self.brand} & {other.brand}\"\n",
    "\n",
    "    # dunder methods\n",
    "\n",
    "volvo : Car = Car(\"red\", 200, \"XC90\", \"Volvo\")\n",
    "print(volvo.get_info())\n",
    "volvo.drive()\n",
    "print(volvo) # will print the object when there is no dunder method, since we have created a __str__ method, it will print the string representation of the object\n",
    "bmw = Car(\"blue\", 300, \"X5\", \"BMW\")\n",
    "print(bmw)\n",
    "print(volvo + bmw)\n",
    "\n",
    "\n",
    "# "
   ]
  },
  {
   "cell_type": "markdown",
   "metadata": {},
   "source": [
    "## 1. Lists"
   ]
  },
  {
   "cell_type": "code",
   "execution_count": 18,
   "metadata": {},
   "outputs": [
    {
     "name": "stdout",
     "output_type": "stream",
     "text": [
      "['banana', 'cherry', 'apple']\n",
      "cherry\n",
      "[5, True, 'apple', 'apple']\n",
      "apple\n",
      "['banana', 'cherry']\n",
      "['banana', 'cherry']\n",
      "['cherry', 'apple']\n",
      "['banana', 'cherry']\n",
      "Yes, 'apple' is in the fruits list\n",
      "No, 'orange' is not in the fruits list\n",
      "['banana', 'blackcurrant', 'apple']\n",
      "['banana', 'blackcurrant', 'apple', 'lemon']\n",
      "['banana', 'blueberry', 'blackcurrant', 'apple', 'lemon']\n",
      "['banana', 'blackcurrant', 'apple', 'lemon']\n",
      "popped list is  ['banana', 'blackcurrant', 'apple']\n",
      "Length of the lists:  3\n",
      "Reversed List is  ['apple', 'blackcurrant', 'banana']\n",
      "New List is  ['apple', 'banana', 'blackcurrant']\n",
      "Original List is  ['apple', 'blackcurrant', 'banana']\n",
      "Sorted List is  ['apple', 'banana', 'blackcurrant']\n",
      "Cleared List is  []\n",
      "[0, 0, 0, 0, 0]\n",
      "[0, 0, 0, 0, 0, 5, True, 'apple', 'apple']\n",
      "[2, 3, 4, 5]\n",
      "[1, 3, 5, 7, 9]\n",
      "[1, 3, 5]\n",
      "[9, 8, 7, 6, 5, 4, 3, 2, 1]\n",
      "Copying a list\n",
      "[1, 2, 3, 4, 5, 6, 7, 8, 9]\n",
      "[1, 2, 3, 4, 5, 6, 7, 8, 9, 10]\n",
      "[1, 2, 3, 4, 5, 6, 7, 8, 9]\n",
      "Copying a list using slicing\n",
      "[1, 2, 3, 4, 5, 6, 7, 8, 9]\n",
      "[1, 2, 3, 4, 5, 6, 7, 8, 9, 11]\n",
      "[1, 2, 3, 4, 5, 6, 7, 8, 9]\n",
      "List comprehension\n",
      "[0, 1, 4, 9, 16, 25, 36, 49, 64, 81]\n"
     ]
    }
   ],
   "source": [
    "mylist = [\"banana\", \"cherry\", \"apple\"]\n",
    "print(mylist)\n",
    "\n",
    "# Accessing items\n",
    "print(mylist[1])\n",
    "\n",
    "mylist2 = [5, True, \"apple\", \"apple\"]\n",
    "print(mylist2)\n",
    "\n",
    "# Negative indexing\n",
    "print(mylist[-1])\n",
    "\n",
    "# Range of indexes\n",
    "print(mylist[0:2])\n",
    "print(mylist[:2])\n",
    "print(mylist[1:])\n",
    "print(mylist[-3:-1])\n",
    "\n",
    "# Check if item exists\n",
    "if \"apple\" in mylist:\n",
    "    print(\"Yes, 'apple' is in the fruits list\")\n",
    "\n",
    "if \"orange\" in mylist:\n",
    "    print(\"Yes, 'orange' is in the fruits list\")\n",
    "else:\n",
    "    print(\"No, 'orange' is not in the fruits list\")\n",
    "\n",
    "# Change item value\n",
    "mylist[1] = \"blackcurrant\"\n",
    "print(mylist)\n",
    "\n",
    "# methods in lists\n",
    "mylist.append(\"lemon\")\n",
    "print(mylist)\n",
    "mylist.insert(1, \"blueberry\")\n",
    "print(mylist)\n",
    "mylist.remove(\"blueberry\")\n",
    "print(mylist)\n",
    "mylist.pop()\n",
    "print(\"popped list is \", mylist)\n",
    "print(\"Length of the lists: \", len(mylist))\n",
    "mylist.reverse()\n",
    "print(\"Reversed List is \", mylist)\n",
    "# creating a new list sorting it \n",
    "newlist = sorted(mylist)\n",
    "print(\"New List is \", newlist)\n",
    "print(\"Original List is \", mylist)\n",
    "# built in sort\n",
    "mylist.sort()\n",
    "print(\"Sorted List is \", mylist)\n",
    "# clear list\n",
    "mylist.clear()\n",
    "print(\"Cleared List is \", mylist)\n",
    "\n",
    "# creating a list\n",
    "mylist = [0] * 5\n",
    "print(mylist)\n",
    "print(mylist + mylist2)\n",
    "\n",
    "# slicing\n",
    "mylist = [1, 2, 3, 4, 5, 6, 7, 8, 9]\n",
    "a = mylist[1:5]\n",
    "print(a)\n",
    "b = mylist[::2] # step size of 2 - every second element\n",
    "print(b)\n",
    "c = mylist[0:6:2]\n",
    "print(c)\n",
    "# reversing a list\n",
    "d = mylist[::-1]\n",
    "print(d)\n",
    "\n",
    "# copying a list\n",
    "print(\"Copying a list\")\n",
    "list_copy = mylist.copy()\n",
    "print(list_copy)\n",
    "list_copy.append(10)\n",
    "print(list_copy)\n",
    "print(mylist)\n",
    "# copy using slicing\n",
    "print(\"Copying a list using slicing\")\n",
    "list_copy = mylist[:]\n",
    "print(list_copy)\n",
    "list_copy.append(11)\n",
    "print(list_copy)\n",
    "print(mylist)\n",
    "\n",
    "# list comprehension\n",
    "print(\"List comprehension\")\n",
    "ranges = [i for i in range(10)]\n",
    "squares = [i*i for i in ranges]\n",
    "print(squares)\n"
   ]
  },
  {
   "cell_type": "code",
   "execution_count": 9,
   "metadata": {},
   "outputs": [
    {
     "name": "stdout",
     "output_type": "stream",
     "text": [
      "Index out of range\n"
     ]
    }
   ],
   "source": [
    "# Error Samples #1 IndexError\n",
    "try:\n",
    "    mylist[4]\n",
    "except IndexError:\n",
    "    print(\"Index out of range\")\n",
    "except:\n",
    "    print(\"An error occurred\")"
   ]
  },
  {
   "cell_type": "code",
   "execution_count": 8,
   "metadata": {},
   "outputs": [
    {
     "name": "stdout",
     "output_type": "stream",
     "text": [
      "Value not found\n"
     ]
    }
   ],
   "source": [
    "# Error Samples #2 value Error Example\n",
    "try:\n",
    "    mylist.remove(\"blueberry\")\n",
    "except ValueError:\n",
    "    print(\"Value not found\")\n",
    "except:\n",
    "    print(\"An error occurred\")"
   ]
  },
  {
   "cell_type": "markdown",
   "metadata": {},
   "source": [
    "## Tuples"
   ]
  },
  {
   "cell_type": "code",
   "execution_count": 36,
   "metadata": {},
   "outputs": [
    {
     "name": "stdout",
     "output_type": "stream",
     "text": [
      "('Max', 28, 'Boston')\n",
      "Max\n",
      "1\n",
      "2\n",
      "['Max', 28, 'Boston']\n",
      "<class 'tuple'>\n",
      "<class 'list'>\n",
      "('Max', 28, 'Boston')\n",
      "<class 'tuple'>\n",
      "<class 'list'>\n",
      "Boston\n",
      "Max\n",
      "28\n",
      "Boston\n",
      "Yes\n",
      "2\n",
      "1\n",
      "5\n",
      "2\n",
      "(3, 4, 5, 6, 7, 8, 9)\n",
      "(1, 3, 5, 7, 9)\n",
      "(9, 8, 7, 6, 5, 4, 3, 2, 1)\n",
      "max\n",
      "28\n",
      "Boston\n",
      "104 bytes\n",
      "80 bytes\n",
      "0.04194499999721302\n",
      "0.005400667003414128\n"
     ]
    }
   ],
   "source": [
    "'''\n",
    "Tuples are ordered and immutable collections. It allows duplicate elements.\n",
    "'''\n",
    "# creating a tuple\n",
    "mytuple = (\"Max\", 28, \"Boston\")\n",
    "print(mytuple)\n",
    "\n",
    "# accessing tuple\n",
    "print(mytuple[0])\n",
    "\n",
    "# tuple methods\n",
    "print(mytuple.count(\"Max\"))\n",
    "print(mytuple.index(\"Boston\"))\n",
    "\n",
    "# converting tuple to list\n",
    "mylist = list(mytuple)\n",
    "print(mylist)\n",
    "print(type(mytuple))\n",
    "print(type(mylist))\n",
    "\n",
    "# converting list to tuple\n",
    "mytuple = tuple(mylist)\n",
    "print(mytuple)\n",
    "print(type(mytuple))\n",
    "print(type(mylist))\n",
    "\n",
    "# negative indexing\n",
    "print(mytuple[-1])\n",
    "\n",
    "# looping over items\n",
    "for val in mytuple:\n",
    "    print(val)\n",
    "\n",
    "# check if item exists\n",
    "if \"Max\" in mytuple:\n",
    "    print(\"Yes\")\n",
    "else:\n",
    "    print(\"No\")\n",
    "\n",
    "# tuple with letters\n",
    "mytuple = (\"a\", \"p\", \"p\", \"l\", \"e\")\n",
    "print(mytuple.count(\"p\"))\n",
    "print(mytuple.index(\"p\"))\n",
    "print(len(mytuple))\n",
    "\n",
    "\n",
    "# index examples\n",
    "a = (1, 2, 3, 4, 5, 6, 7, 8, 9)\n",
    "print(a[1])\n",
    "print(a[2:])\n",
    "print(a[::2])\n",
    "print(a[::-1]) # reverses the tuple\n",
    "\n",
    "mylist = \"max\", 28, \"Boston\"\n",
    "name, age, city = mylist # variables must match the number of elements in the tuple\n",
    "print(name)\n",
    "print(age)\n",
    "print(city)\n",
    "\n",
    "# working with large data tuple is more efifcient if the data is not going to change\n",
    "import sys\n",
    "mylist = [0, 1, 2, \"hello\", True]\n",
    "mytuple = (0, 1, 2, \"hello\", True)\n",
    "print(sys.getsizeof(mylist), \"bytes\") # size of list is always larger than tuple\n",
    "print(sys.getsizeof(mytuple), \"bytes\")\n",
    "\n",
    "import timeit\n",
    "print(timeit.timeit(stmt=\"[0, 1, 2, 3, 4, 5]\", number=1000000))\n",
    "print(timeit.timeit(stmt=\"(0, 1, 2, 3, 4, 5)\", number=1000000)) # way faster than list\n",
    "\n"
   ]
  },
  {
   "cell_type": "code",
   "execution_count": 30,
   "metadata": {},
   "outputs": [
    {
     "name": "stdout",
     "output_type": "stream",
     "text": [
      "Tuple is immutable\n",
      "AttributeError\n",
      "ValueError - Value not found\n"
     ]
    }
   ],
   "source": [
    "# Error Samples #1 TypeError\n",
    "try:\n",
    "    mytuple[1] = 30\n",
    "except TypeError:\n",
    "    print(\"Tuple is immutable\")\n",
    "except:\n",
    "    print(\"An error occurred\")\n",
    "\n",
    "# Error Samples #2 Attribute Error Example\n",
    "try:\n",
    "    mytuple.remove(\"blueberry\")\n",
    "except AttributeError:\n",
    "    print(\"AttributeError\")\n",
    "except:\n",
    "    print(\"An error occurred\")\n",
    "\n",
    "# Error Samples #3 value Error Example\n",
    "try:\n",
    "   mytuple.index(\"blueberry\")\n",
    "except ValueError:\n",
    "    print(\"ValueError - Value not found\")\n",
    "except:\n",
    "    print(\"An error joccurred\")\n"
   ]
  },
  {
   "cell_type": "markdown",
   "metadata": {},
   "source": [
    "## Dictionary"
   ]
  },
  {
   "cell_type": "code",
   "execution_count": 52,
   "metadata": {},
   "outputs": [
    {
     "name": "stdout",
     "output_type": "stream",
     "text": [
      "{'name': 'Max', 'age': 28, 'city': 'New York'}\n",
      "<class 'dict'>\n",
      "{'name': 'Mary', 'age': 27, 'city': 'Boston'}\n",
      "Mary\n",
      "Mary\n",
      "{'name': 'Mary', 'age': 29, 'city': 'Boston'}\n",
      "name\n",
      "age\n",
      "city\n",
      "Mary\n",
      "29\n",
      "Boston\n",
      "name Mary\n",
      "age 29\n",
      "city Boston\n",
      "Yes\n",
      "Yes\n",
      "3\n",
      "{'name': 'Mary', 'age': 29, 'city': 'Boston'}\n",
      "{'name': 'Mary', 'age': 29, 'city': 'Boston', 'email': 'test@test.com'}\n",
      "{'name': 'Mary', 'age': 29, 'city': 'Boston'}\n",
      "{'name': 'Mary', 'age': 29, 'city': 'Boston'}\n",
      "{'name': 'Mary', 'age': 29, 'city': 'Boston', 'email': 'test@test.com'}\n",
      "{'name': 'Mary', 'age': 29, 'city': 'Boston'}\n",
      "{'name': 'Mary', 'age': 29, 'city': 'Boston'}\n",
      "{'name': 'Mary', 'age': 29, 'city': 'Boston', 'email': 'test@test.com'}\n",
      "{'name': 'Mary', 'age': 29, 'city': 'Boston'}\n",
      "Merged dictonaries are  {'name': 'Max', 'age': 28, 'city': 'Boston', 'email': 's@test.com!'}\n",
      "{'name': 'Mary', 'age': 27, 'city': 'Boston'}\n",
      "{'name': 'Mary', 'age': 27, 'city': 'Boston', (0, 1): 'tuple'}\n",
      "{'Mary': 27, 'Max': 28, 'Alice': 29}\n",
      "{'age': 27, 'city': 'Boston', (0, 1): 'tuple'}\n",
      "{'age': 27, 'city': 'Boston'}\n",
      "{}\n"
     ]
    }
   ],
   "source": [
    "# key - value pairs, unordered(before 3.7), mutable\n",
    "# key must be unique\n",
    "mydict = {\"name\": \"Max\", \"age\": 28, \"city\": \"New York\"}\n",
    "print(mydict)\n",
    "\n",
    "print(type(mydict))\n",
    "\n",
    "# creating dictionary using dict constructor\n",
    "mydict = dict(name=\"Mary\", age=27, city=\"Boston\")\n",
    "print(mydict)\n",
    "\n",
    "# accessing items\n",
    "print(mydict[\"name\"])\n",
    "print(mydict.get(\"name\"))\n",
    "\n",
    "# changing values\n",
    "mydict[\"age\"] = 29\n",
    "print(mydict)\n",
    "\n",
    "# looping over keys\n",
    "for key in mydict:\n",
    "    print(key)\n",
    "\n",
    "# looping over values\n",
    "for value in mydict.values():\n",
    "    print(value)\n",
    "\n",
    "# looping over items\n",
    "for key, value in mydict.items():\n",
    "    print(key, value)\n",
    "\n",
    "# check if key exists\n",
    "if \"name\" in mydict:\n",
    "    print(\"Yes\")\n",
    "\n",
    "# check if value exists\n",
    "if \"Mary\" in mydict.values():\n",
    "    print(\"Yes\")\n",
    "\n",
    "# length of dictionary\n",
    "print(len(mydict))\n",
    "\n",
    "# copying a dictionary\n",
    "mydict_copy = mydict.copy()\n",
    "print(mydict_copy)\n",
    "mydict_copy[\"email\"] = \"test@test.com\"\n",
    "print(mydict_copy)\n",
    "print(mydict)\n",
    "\n",
    "# making an actual copy\n",
    "mydict_copy = dict(mydict)\n",
    "print(mydict_copy)\n",
    "mydict_copy[\"email\"] = \"test@test.com\"\n",
    "print(mydict_copy)\n",
    "print(mydict)\n",
    "\n",
    "# using the copy method\n",
    "mydict_copy = mydict.copy()\n",
    "print(mydict_copy)\n",
    "mydict_copy[\"email\"] = \"test@test.com\"\n",
    "print(mydict_copy)\n",
    "print(mydict)\n",
    "\n",
    "# merging dictionaries\n",
    "mydict = dict(name=\"Mary\", age=27, city=\"Boston\")\n",
    "mydict2 = dict(name=\"Max\", age=28, email=\"s@test.com!\")\n",
    "mydict.update(mydict2)\n",
    "print(\"Merged dictonaries are \", mydict)\n",
    "\n",
    "# creating from tuples\n",
    "mydict = dict([(\"name\", \"Mary\"), (\"age\", 27), (\"city\", \"Boston\")])\n",
    "print(mydict)\n",
    "# keys can be tuples\n",
    "mydict = dict([(\"name\", \"Mary\"), (\"age\", 27), (\"city\", \"Boston\"), ((0, 1), \"tuple\")])\n",
    "print(mydict)\n",
    "# lists cannot be keys\n",
    "# mydict = dict([(\"name\", \"Mary\"), (\"age\", 27), (\"city\", \"Boston\"), ([0, 1], \"list\")])\n",
    "# print(mydict)\n",
    "\n",
    "# creating from two lists\n",
    "names = [\"Mary\", \"Max\", \"Alice\"]\n",
    "ages = [27, 28, 29]\n",
    "mydict3 = dict(zip(names, ages))\n",
    "print(mydict3)\n",
    "\n",
    "# popping an item\n",
    "mydict.pop(\"name\")\n",
    "print(mydict)\n",
    "\n",
    "# removing last item\n",
    "mydict.popitem()\n",
    "print(mydict)\n",
    "\n",
    "# removing all items\n",
    "mydict.clear()\n",
    "print(mydict)\n"
   ]
  },
  {
   "cell_type": "code",
   "execution_count": 47,
   "metadata": {},
   "outputs": [
    {
     "name": "stdout",
     "output_type": "stream",
     "text": [
      "Key not found\n",
      "TypeError\n"
     ]
    }
   ],
   "source": [
    "# Error Samples #1 KeyError\n",
    "try:\n",
    "    print(mydict[\"lastname\"])\n",
    "except KeyError:\n",
    "    print(\"Key not found\")\n",
    "except:\n",
    "    print(\"An error occurred\")\n",
    "\n",
    "# Error Samples #2 TypeError\n",
    "try:\n",
    "    mydict = dict([(\"name\", \"Mary\"), (\"age\", 27), (\"city\", \"Boston\"), ([0, 1], \"list\")])\n",
    "    print(mydict)\n",
    "except TypeError:\n",
    "    print(\"TypeError\")\n",
    "except:\n",
    "    print(\"An error occurred\")"
   ]
  },
  {
   "cell_type": "code",
   "execution_count": 50,
   "metadata": {},
   "outputs": [
    {
     "name": "stdout",
     "output_type": "stream",
     "text": [
      "OrderedDict({'name': 'Mary', 'age': 27, 'city': 'Boston'})\n",
      "True\n",
      "An error occurred\n"
     ]
    }
   ],
   "source": [
    "# OrderedDict\n",
    "from collections import OrderedDict\n",
    "mydict = OrderedDict()\n",
    "mydict[\"name\"] = \"Mary\"\n",
    "mydict[\"age\"] = 27\n",
    "mydict[\"city\"] = \"Boston\"\n",
    "print(mydict)\n",
    "\n",
    "# how ordered dictionary works\n",
    "# overwritten values stay in the same position\n",
    "# python3.7 made dictionaries ordered by default\n",
    "\n",
    "# comparing dictionaries\n",
    "dict1 = {\"name\": \"Mary\", \"age\": 27, \"city\": \"Boston\"}\n",
    "dict2 = {\"name\": \"Mary\", \"age\": 27, \"city\": \"Boston\"}\n",
    "print(dict1 == dict2)\n",
    "\n",
    "# Error Samples #3 AttributeError\n",
    "try:\n",
    "    mydict = dict([(\"name\", \"Mary\"), (\"age\", 27), (\"city\", \"Boston\"), ([0, 1], \"list\")])\n",
    "    print(mydict)\n",
    "except AttributeError:\n",
    "    print(\"AttributeError\")\n",
    "except:\n",
    "    print(\"An error occurred\")"
   ]
  },
  {
   "cell_type": "markdown",
   "metadata": {},
   "source": [
    "## Sets"
   ]
  },
  {
   "cell_type": "code",
   "execution_count": 55,
   "metadata": {},
   "outputs": [
    {
     "name": "stdout",
     "output_type": "stream",
     "text": [
      "{1, 2, 3, 4, 5}\n",
      "{'o', 'e', 'l', 'H'}\n",
      "{6, 'H', 'o', 'e', 'l'}\n",
      "{'H', 'o', 'e', 'l'}\n",
      "<class 'dict'>\n",
      "<class 'set'>\n"
     ]
    }
   ],
   "source": [
    "# sets are unordered, mutable, no duplicates\n",
    "myset = {1, 2, 3, 4, 5}\n",
    "print(myset)\n",
    "\n",
    "# creating a set\n",
    "myset = set(\"Hello\") # check output\n",
    "print(myset)\n",
    "\n",
    "# adding an element\n",
    "myset.add(6)\n",
    "print(myset)\n",
    "\n",
    "# removing an element\n",
    "myset.remove(6)\n",
    "print(myset)\n",
    "\n",
    "# empty set with {} is a dictionary\n",
    "myset = {}\n",
    "print(type(myset))\n",
    "# so use set() to create an empty set\n",
    "myset = set()\n",
    "print(type(myset))\n"
   ]
  },
  {
   "cell_type": "code",
   "execution_count": 56,
   "metadata": {},
   "outputs": [
    {
     "name": "stdout",
     "output_type": "stream",
     "text": [
      "Key not found\n"
     ]
    }
   ],
   "source": [
    "# removing an element that does not exist\n",
    "try:\n",
    "    myset.remove(6)\n",
    "except KeyError:\n",
    "    print(\"Key not found\")\n",
    "except:\n",
    "    print(\"An error occurred\")"
   ]
  },
  {
   "cell_type": "code",
   "execution_count": 62,
   "metadata": {},
   "outputs": [
    {
     "name": "stdout",
     "output_type": "stream",
     "text": [
      "{2, 3, 4, 5}\n",
      "{2, 3, 4, 5}\n",
      "2\n",
      "3\n",
      "4\n",
      "5\n",
      "No\n",
      "4\n",
      "{2, 3, 4, 5}\n",
      "{2, 3, 4, 5, 6, 7, 8}\n"
     ]
    }
   ],
   "source": [
    "# removing an element with discard method \n",
    "myset.discard(6)\n",
    "print(myset) # no error\n",
    "\n",
    "# removing an element with pop method\n",
    "myset = {1, 2, 3, 4, 5}\n",
    "myset.pop()\n",
    "print(myset)\n",
    "\n",
    "# iterating over a set\n",
    "for val in myset:\n",
    "    print(val)\n",
    "\n",
    "# check if item exists\n",
    "if 1 in myset:\n",
    "    print(\"Yes\")\n",
    "else:\n",
    "    print(\"No\")\n",
    "\n",
    "# length of set\n",
    "print(len(myset))\n",
    "\n",
    "# copying a set\n",
    "myset_copy = myset.copy()\n",
    "print(myset_copy)\n",
    "\n",
    "# adding multiple items\n",
    "myset.update([6, 7, 8])\n",
    "print(myset)"
   ]
  },
  {
   "cell_type": "code",
   "execution_count": 73,
   "metadata": {},
   "outputs": [
    {
     "name": "stdout",
     "output_type": "stream",
     "text": [
      "{1, 2, 3, 4, 5, 6, 7, 8}\n",
      "{1, 2, 3, 4, 5, 6, 7, 8}\n",
      "{4, 5}\n",
      "{4, 5}\n",
      "{1, 2, 3}\n",
      "{1, 2, 3}\n",
      "{1, 2, 3, 6, 7, 8}\n",
      "{1, 2, 3, 6, 7, 8}\n",
      "False\n",
      "True\n",
      "False\n",
      "True\n",
      "False\n",
      "True\n",
      "{1, 2, 3, 4, 5, 7, 6, 9, 8}\n",
      "{8, 6, 7}\n",
      "{1, 2, 3, 4, 5, 9}\n",
      "{1, 2, 3, 4, 5, 9}\n"
     ]
    }
   ],
   "source": [
    "# union of sets\n",
    "set1 = {1, 2, 3, 4, 5}\n",
    "set2 = {4, 5, 6, 7, 8}\n",
    "print(set1.union(set2))\n",
    "print(set1 | set2)\n",
    "\n",
    "# intersection of sets\n",
    "print(set1.intersection(set2))\n",
    "print(set1 & set2)\n",
    "\n",
    "# difference of sets\n",
    "print(set1.difference(set2))\n",
    "print(set1 - set2)\n",
    "\n",
    "# symmetric difference of sets\n",
    "print(set1.symmetric_difference(set2))\n",
    "print(set1 ^ set2)\n",
    "\n",
    "# check if a set is a subset\n",
    "print(set1.issubset(set2))\n",
    "print(set1.issubset({1, 2, 3, 4, 5, 6, 7, 8}))\n",
    "\n",
    "# check if a set is a superset\n",
    "print(set1.issuperset(set2))\n",
    "print(set1.issuperset({1, 2, 3, 4, 5}))\n",
    "\n",
    "# check if two sets have no elements in common\n",
    "print(set1.isdisjoint(set2))\n",
    "print(set1.isdisjoint({6, 7, 8}))\n",
    "\n",
    "# update method\n",
    "myset.update([6, 7, 8])\n",
    "print(myset)\n",
    "\n",
    "# intersection update\n",
    "myset.intersection_update({6, 7, 8})\n",
    "print(myset)\n",
    "\n",
    "# difference update\n",
    "myset = {1, 2, 3, 4, 5, 6, 7, 8, 9}\n",
    "myset.difference_update({6, 7, 8})\n",
    "print(myset)\n",
    "\n",
    "# symmetric difference update\n",
    "myset = {1, 2, 3, 4, 5, 6, 7, 8, 9}\n",
    "myset.symmetric_difference_update({6, 7, 8})\n",
    "print(myset)"
   ]
  },
  {
   "cell_type": "code",
   "execution_count": 76,
   "metadata": {},
   "outputs": [
    {
     "name": "stdout",
     "output_type": "stream",
     "text": [
      "Key not found\n",
      "TypeError 'set' object is not subscriptable\n"
     ]
    }
   ],
   "source": [
    "# Error Samples #1 KeyError\n",
    "try:\n",
    "    myset.remove(6)\n",
    "except KeyError:\n",
    "    print(\"Key not found\")\n",
    "except:\n",
    "    print(\"An error occurred\")\n",
    "\n",
    "# Error Samples #2 AttributeError\n",
    "try:\n",
    "    myset = {1, 2, 3, 4, 5}\n",
    "    myset[0]\n",
    "except AttributeError:\n",
    "    print(\"AttributeError\")\n",
    "except TypeError as e:\n",
    "    print(\"TypeError\", e)\n",
    "except Exception as e:\n",
    "    print(\"An error occurred\")\n",
    "    print(e)\n"
   ]
  },
  {
   "cell_type": "code",
   "execution_count": 78,
   "metadata": {},
   "outputs": [
    {
     "name": "stdout",
     "output_type": "stream",
     "text": [
      "{1, 2, 3, 4, 5, 6}\n",
      "{1, 2, 3, 4, 5, 6}\n"
     ]
    }
   ],
   "source": [
    "# reference sets are mutable\n",
    "myset = {1, 2, 3, 4, 5}\n",
    "myset2 = myset\n",
    "myset2.add(6)\n",
    "print(myset)\n",
    "print(myset2)"
   ]
  },
  {
   "cell_type": "code",
   "execution_count": 77,
   "metadata": {},
   "outputs": [
    {
     "name": "stdout",
     "output_type": "stream",
     "text": [
      "frozenset({1, 2, 3, 4, 5})\n",
      "AttributeError\n"
     ]
    }
   ],
   "source": [
    "# frozen sets are immutable\n",
    "myset = frozenset([1, 2, 3, 4, 5])\n",
    "print(myset)\n",
    "\n",
    "try:\n",
    "    myset.add(6)\n",
    "except AttributeError:\n",
    "    print(\"AttributeError\")\n",
    "except:\n",
    "    print(\"An error occurred\")"
   ]
  },
  {
   "cell_type": "markdown",
   "metadata": {},
   "source": [
    "## Strings"
   ]
  },
  {
   "cell_type": "code",
   "execution_count": 119,
   "metadata": {},
   "outputs": [
    {
     "name": "stdout",
     "output_type": "stream",
     "text": [
      "Hello World\n",
      "Hello World\n",
      "Hello World, this is written in 'Python’\n",
      "Hello\n",
      "World\n",
      "e\n",
      "!\n",
      "ello\n",
      "Hello\n",
      "Hello World!\n",
      "HloWrd\n",
      "!dlroW olleH\n",
      "Hello Tom\n"
     ]
    }
   ],
   "source": [
    "my_string = \"Hello World\"\n",
    "print(my_string)\n",
    "\n",
    "# with single quotes\n",
    "my_string = 'Hello World'\n",
    "print(my_string)\n",
    "my_string = 'Hello World, this is written in \\'Python’'\n",
    "print(my_string)\n",
    "\n",
    "# multi line string\n",
    "my_string = \"\"\"Hello\n",
    "World\"\"\"\n",
    "print(my_string)\n",
    "\n",
    "my_string = 'Hello World!'\n",
    "char = my_string[1]\n",
    "print(char)\n",
    "char = my_string[-1]\n",
    "print(char)\n",
    "\n",
    "# slicing\n",
    "substring = my_string[1:5]\n",
    "print(substring)\n",
    "substring = my_string[:5]\n",
    "print(substring)\n",
    "substring = my_string[::]\n",
    "print(substring)\n",
    "substring = my_string[::2]\n",
    "print(substring) # every second character\n",
    "substring = my_string[::-1]\n",
    "print(substring) # reversed string\n",
    "\n",
    "# concatenation\n",
    "greeting = \"Hello\"\n",
    "name = \"Tom\"\n",
    "sentence = greeting + \" \" + name\n",
    "print(sentence)"
   ]
  },
  {
   "cell_type": "code",
   "execution_count": 116,
   "metadata": {},
   "outputs": [
    {
     "name": "stdout",
     "output_type": "stream",
     "text": [
      "TypeError\n"
     ]
    }
   ],
   "source": [
    "# string object is immutable\n",
    "try:\n",
    "    my_string[0] = 'h'\n",
    "except TypeError:\n",
    "    print(\"TypeError\")\n",
    "except:\n",
    "    print(\"An error occurred\")"
   ]
  },
  {
   "cell_type": "code",
   "execution_count": 136,
   "metadata": {},
   "outputs": [
    {
     "name": "stdout",
     "output_type": "stream",
     "text": [
      "H\n",
      "e\n",
      "l\n",
      "l\n",
      "o\n",
      " \n",
      "W\n",
      "o\n",
      "r\n",
      "l\n",
      "d\n",
      "Yes\n",
      "No\n",
      "    Eric     \n",
      "Eric\n",
      "4\n",
      "ERIC\n",
      "eric\n",
      "True\n",
      "False\n",
      "True\n",
      "False\n",
      "1\n",
      "-1\n",
      "1\n",
      "0\n",
      "ERic\n",
      "Eric\n",
      "['How', 'are', 'you', 'doing']\n",
      "['How', 'are', 'you', 'doing']\n",
      "['How', 'are', 'you', 'doing']\n",
      "How are you doing\n",
      "With for loop used in string concatenation: 22.07716987499589\n",
      "With join used in string concatenation: 0.008810832994640805\n"
     ]
    }
   ],
   "source": [
    "my_string = \"Hello World\"\n",
    "\n",
    "# iteration \n",
    "for char in my_string:\n",
    "    print(char)\n",
    "\n",
    "# check if substring exists\n",
    "if \"Hello\" in my_string:\n",
    "    print(\"Yes\")\n",
    "else:\n",
    "    print(\"No\")\n",
    "\n",
    "# check if substring does not exist\n",
    "if \"Hello\" not in my_string:\n",
    "    print(\"Yes\")\n",
    "else:\n",
    "    print(\"No\")\n",
    "\n",
    "# string formatting\n",
    "name = \"    Eric     \"\n",
    "print(name)\n",
    "name = name.strip() # strip creates a new string and then we are replacing the old string\n",
    "print(name)\n",
    "print(len(name))\n",
    "\n",
    "# upper case\n",
    "print(name.upper())\n",
    "print(name.lower())\n",
    "\n",
    "# starts with\n",
    "print(name.startswith(\"E\"))\n",
    "print(name.startswith(\"e\"))\n",
    "\n",
    "# ends with\n",
    "print(name.endswith(\"c\"))\n",
    "print(name.endswith(\"C\"))\n",
    "\n",
    "# find index of a character\n",
    "print(name.find('r'))\n",
    "print(name.find('R')) # -1 if not found\n",
    "\n",
    "# count of a character\n",
    "print(name.count('r'))\n",
    "print(name.count('R')) # returns a 0 since R is not in Eric\n",
    "\n",
    "# replace a character\n",
    "print(name.replace('r', 'R')) # a new string is returned\n",
    "print(name)\n",
    "\n",
    "# split a string\n",
    "my_string = \"How are you doing\"\n",
    "print(my_string.split(\" \"))\n",
    "my_string = \"How,are,you,doing\"\n",
    "print(my_string.split(\",\"))\n",
    "my_string = \"How are you doing\"\n",
    "print(my_string.split())\n",
    "\n",
    "# join a string\n",
    "my_list = [\"How\", \"are\", \"you\", \"doing\"]\n",
    "print(\" \".join(my_list)) # TODO INTERNALS Visualization\n",
    "\n",
    "# timeit checks\n",
    "from timeit import default_timer as timer\n",
    "my_list = [\"a\"] * 1000000\n",
    "start = timer()\n",
    "my_string = \"\"\n",
    "for i in my_list:\n",
    "    my_string += i\n",
    "stop = timer()\n",
    "print(\"With for loop used in string concatenation:\", stop - start)\n",
    "\n",
    "start = timer()\n",
    "my_string = \"\".join(my_list)\n",
    "stop = timer()\n",
    "print(\"With join used in string concatenation:\", stop - start) # join is faster"
   ]
  },
  {
   "cell_type": "code",
   "execution_count": 137,
   "metadata": {},
   "outputs": [
    {
     "name": "stdout",
     "output_type": "stream",
     "text": [
      "the variable is Tom\n",
      "the variable is Tom\n",
      "the variable is Tom\n"
     ]
    }
   ],
   "source": [
    "# formatting strings\n",
    "# with %\n",
    "var = \"Tom\"\n",
    "my_string = \"the variable is %s\" % var\n",
    "print(my_string)\n",
    "\n",
    "# with .format\n",
    "var = \"Tom\"\n",
    "my_string = \"the variable is {}\".format(var)\n",
    "print(my_string)\n",
    "\n",
    "# with f-strings (formatted string literals) - python 3.6+\n",
    "var = \"Tom\"\n",
    "my_string = f\"the variable is {var}\"\n",
    "print(my_string)\n"
   ]
  },
  {
   "cell_type": "markdown",
   "metadata": {},
   "source": [
    "## Collections"
   ]
  },
  {
   "cell_type": "code",
   "execution_count": 141,
   "metadata": {},
   "outputs": [
    {
     "name": "stdout",
     "output_type": "stream",
     "text": [
      "Counter({'a': 5, 'b': 4, 'c': 4}) is the counter of aaaaabbbbcccc\n",
      "dict_items([('a', 5), ('b', 4), ('c', 4)])\n",
      "dict_keys(['a', 'b', 'c'])\n",
      "dict_values([5, 4, 4])\n",
      "[('a', 5)]\n",
      "[('a', 5), ('b', 4)]\n",
      "[('a', 5), ('b', 4), ('c', 4)]\n",
      "['a', 'a', 'a', 'a', 'a', 'b', 'b', 'b', 'b', 'c', 'c', 'c', 'c']\n"
     ]
    }
   ],
   "source": [
    "# Collections modules - Counter, namedtuple, OrderedDict, defaultdict, deque\n",
    "\n",
    "# Counter\n",
    "from collections import Counter\n",
    "a = \"aaaaabbbbcccc\"\n",
    "my_counter = Counter(a)\n",
    "print(f'{my_counter} is the counter of {a}') # return a key value pairs\n",
    "print(my_counter.items())\n",
    "print(my_counter.keys())\n",
    "print(my_counter.values())\n",
    "\n",
    "# most common\n",
    "print(my_counter.most_common(1))\n",
    "print(my_counter.most_common(2))\n",
    "print(my_counter.most_common()) # all of the most common items\n",
    "\n",
    "# elements\n",
    "print(list(my_counter.elements()))"
   ]
  },
  {
   "cell_type": "code",
   "execution_count": 147,
   "metadata": {},
   "outputs": [
    {
     "name": "stdout",
     "output_type": "stream",
     "text": [
      "Point(x=1, y=-4)\n",
      "1 -4\n",
      "OrderedDict({'a': 1, 'b': 2, 'c': 3, 'd': 4, 'e': 5})\n",
      "defaultdict(<class 'int'>, {'a': 1, 'b': 2})\n",
      "1\n",
      "0\n",
      "deque([3, 1, 2])\n",
      "deque([3, 1])\n",
      "deque([1])\n",
      "deque([1, 4, 5, 6])\n",
      "deque([6, 1, 4, 5])\n",
      "deque([1, 4, 5, 6])\n"
     ]
    }
   ],
   "source": [
    "# namedtuple\n",
    "from collections import namedtuple\n",
    "Point = namedtuple(\"Point\", \"x, y\") # NEEDS MORE INFO\n",
    "pt = Point(1, -4)\n",
    "print(pt)\n",
    "print(pt.x, pt.y)\n",
    "\n",
    "# OrderedDict - not needed after python 3.7+ since dictionaries are ordered by default\n",
    "from collections import OrderedDict\n",
    "ordered_dict = OrderedDict()\n",
    "ordered_dict['a'] = 1\n",
    "ordered_dict['b'] = 2\n",
    "ordered_dict['c'] = 3\n",
    "ordered_dict['d'] = 4\n",
    "ordered_dict['e'] = 5\n",
    "print(ordered_dict)\n",
    "\n",
    "# defaultdict\n",
    "from collections import defaultdict\n",
    "d = defaultdict(int) # int is the default value type for the dictionary - 0\n",
    "d['a'] = 1\n",
    "d['b'] = 2\n",
    "print(d)\n",
    "print(d['a'])\n",
    "print(d['c']) # returns 0 since it is not defined\n",
    "\n",
    "# deque\n",
    "from collections import deque # double ended queue\n",
    "d = deque()\n",
    "d.append(1)\n",
    "d.append(2)\n",
    "d.appendleft(3)\n",
    "print(d)\n",
    "d.pop()\n",
    "print(d)\n",
    "d.popleft()\n",
    "print(d)\n",
    "d.extend([4, 5, 6])\n",
    "print(d)\n",
    "d.rotate(1) # rotates the list by 1 element\n",
    "print(d)\n",
    "d.rotate(-1) # rotates the list by -1 elements\n",
    "print(d)\n"
   ]
  },
  {
   "cell_type": "markdown",
   "metadata": {},
   "source": [
    "## Itertools"
   ]
  },
  {
   "cell_type": "code",
   "execution_count": 151,
   "metadata": {},
   "outputs": [
    {
     "name": "stdout",
     "output_type": "stream",
     "text": [
      "[(1, 3), (1, 4), (2, 3), (2, 4)]\n"
     ]
    }
   ],
   "source": [
    "# itertools - product, permutations, combinations, accumulate, groupby, and infinite iterators\n",
    "\n",
    "# product   \n",
    "from itertools import product # cartesian product\n",
    "a = [1, 2]\n",
    "b = [3, 4]\n",
    "prod = product(a, b)\n",
    "print(list(prod))"
   ]
  },
  {
   "cell_type": "code",
   "execution_count": 152,
   "metadata": {},
   "outputs": [
    {
     "name": "stdout",
     "output_type": "stream",
     "text": [
      "[(1, 2, 3), (1, 3, 2), (2, 1, 3), (2, 3, 1), (3, 1, 2), (3, 2, 1)]\n",
      "[(1, 2), (1, 3), (2, 1), (2, 3), (3, 1), (3, 2)]\n",
      "[(1,), (2,), (3,)]\n"
     ]
    }
   ],
   "source": [
    "# permutations\n",
    "from itertools import permutations # all possible orderings\n",
    "a = [1, 2, 3]\n",
    "perm = permutations(a)\n",
    "print(list(perm))\n",
    "perm = permutations(a, 2)\n",
    "print(list(perm))\n",
    "perm = permutations(a, 1)\n",
    "print(list(perm))"
   ]
  },
  {
   "cell_type": "code",
   "execution_count": 154,
   "metadata": {},
   "outputs": [
    {
     "name": "stdout",
     "output_type": "stream",
     "text": [
      "[(1, 2), (1, 3), (1, 4), (2, 3), (2, 4), (3, 4)]\n",
      "[(1, 2, 3), (1, 2, 4), (1, 3, 4), (2, 3, 4)]\n"
     ]
    }
   ],
   "source": [
    "# combinations\n",
    "from itertools import combinations # all possible combinations\n",
    "a = [1, 2, 3, 4]\n",
    "comb = combinations(a, 2)\n",
    "print(list(comb))\n",
    "comb = combinations(a, 3)\n",
    "print(list(comb))"
   ]
  },
  {
   "cell_type": "code",
   "execution_count": 159,
   "metadata": {},
   "outputs": [
    {
     "name": "stdout",
     "output_type": "stream",
     "text": [
      "[1, 2, 3, 4]\n",
      "[1, 3, 6, 10]\n",
      "[1, 2, 3, 4]\n",
      "[1, 2, 6, 24]\n"
     ]
    }
   ],
   "source": [
    "# accumulate\n",
    "from itertools import accumulate # returns accumulated sums\n",
    "a = [1, 2, 3, 4]\n",
    "acc = accumulate(a)\n",
    "print(a)\n",
    "print(list(acc))\n",
    "\n",
    "from itertools import accumulate # returns accumulated sums\n",
    "import operator\n",
    "a = [1, 2, 3, 4]\n",
    "acc = accumulate(a, func=operator.mul)\n",
    "print(a)\n",
    "print(list(acc))"
   ]
  },
  {
   "cell_type": "code",
   "execution_count": 157,
   "metadata": {},
   "outputs": [
    {
     "name": "stdout",
     "output_type": "stream",
     "text": [
      "True [1, 2]\n",
      "False [3, 4]\n"
     ]
    }
   ],
   "source": [
    "# groupby\n",
    "from itertools import groupby # groups the elements based on a key\n",
    "def smaller_than_3(x):\n",
    "    return x < 3\n",
    "\n",
    "a = [1, 2, 3, 4]\n",
    "group_obj = groupby(a, key=smaller_than_3)\n",
    "for key, value in group_obj:\n",
    "    print(key, list(value))\n"
   ]
  },
  {
   "cell_type": "code",
   "execution_count": 158,
   "metadata": {},
   "outputs": [
    {
     "name": "stdout",
     "output_type": "stream",
     "text": [
      "10\n",
      "11\n",
      "12\n",
      "13\n",
      "14\n",
      "15\n",
      "1\n",
      "2\n",
      "3\n",
      "1\n",
      "1\n",
      "1\n",
      "1\n"
     ]
    }
   ],
   "source": [
    "# infinite iterators\n",
    "from itertools import count, cycle, repeat\n",
    "for i in count(10):\n",
    "    print(i)\n",
    "    if i == 15:\n",
    "        break\n",
    "\n",
    "a = [1, 2, 3]\n",
    "for i in cycle(a):\n",
    "    print(i)\n",
    "    if i == 3:\n",
    "        break\n",
    "\n",
    "for i in repeat(1, 4):\n",
    "    print(i)\n"
   ]
  },
  {
   "cell_type": "markdown",
   "metadata": {},
   "source": [
    "## Lambda Functions"
   ]
  },
  {
   "cell_type": "code",
   "execution_count": 165,
   "metadata": {},
   "outputs": [
    {
     "name": "stdout",
     "output_type": "stream",
     "text": [
      "15\n",
      "14\n",
      "10\n",
      "10\n",
      "[(13, -3), (4, 1), (1, 2), (9, 10)]\n",
      "[(1, 2), (5, -1), (10, 4), (15, 1)]\n",
      "[(5, -1), (15, 1), (1, 2), (10, 4)]\n",
      "[(5, -1), (15, 1), (1, 2), (10, 4)]\n"
     ]
    }
   ],
   "source": [
    "# lambda functions - anonymous functions\n",
    "add10 = lambda x: x + 10\n",
    "print(add10(5))\n",
    "\n",
    "# lamda with multiple arguments\n",
    "mult = lambda x, y: x * y\n",
    "print(mult(2, 7))\n",
    "\n",
    "# lambda with no arguments\n",
    "always_10 = lambda: 10\n",
    "print(always_10())\n",
    "\n",
    "# lambda with if else\n",
    "y = 10\n",
    "z = 5\n",
    "max = lambda x, y: x if x > y else y\n",
    "print(max(y, z))\n",
    "\n",
    "# lambda can also be used with built-in functions\n",
    "a = [(1, 2), (4, 1), (9, 10), (13, -3)]\n",
    "a.sort(key=lambda x: x[1])\n",
    "print(a)\n",
    "\n",
    "# lambda arguments: expression\n",
    "def sort_by_y(data):\n",
    "    return data[1]\n",
    "\n",
    "points2D = [(1, 2), (15, 1), (5, -1), (10, 4)]\n",
    "points2D_sorted = sorted(points2D) # sorts by x i.e. first element\n",
    "print(points2D_sorted)\n",
    "points2D_sorted = sorted(points2D, key=lambda x: x[1])\n",
    "print(points2D_sorted)\n",
    "points2D_sorted = sorted(points2D, key=sort_by_y)\n",
    "print(points2D_sorted)"
   ]
  },
  {
   "cell_type": "code",
   "execution_count": 166,
   "metadata": {},
   "outputs": [
    {
     "name": "stdout",
     "output_type": "stream",
     "text": [
      "[2, 4, 6, 8, 10]\n",
      "[2, 4]\n",
      "24\n"
     ]
    }
   ],
   "source": [
    "# map function - applies a function to all the items in an input_list\n",
    "a = [1, 2, 3, 4, 5]\n",
    "b = map(lambda x: x * 2, a)\n",
    "print(list(b))\n",
    "\n",
    "# filter function - creates a list of elements for which a function returns true\n",
    "a = [1, 2, 3, 4, 5]\n",
    "b = filter(lambda x: x % 2 == 0, a) # filters out odd numbers - returns a map object\n",
    "print(list(b)) # map object is converted to list object \n",
    "\n",
    "# reduce function - applies a rolling computation to sequential pairs of values in a list\n",
    "from functools import reduce\n",
    "a = [1, 2, 3, 4]\n",
    "product_a = reduce(lambda x, y: x * y, a)\n",
    "print(product_a)"
   ]
  },
  {
   "cell_type": "code",
   "execution_count": 160,
   "metadata": {},
   "outputs": [
    {
     "name": "stdout",
     "output_type": "stream",
     "text": [
      "[(13, -3), (4, 1), (1, 2), (9, 10)]\n",
      "[{'name': 'John', 'age': 22}, {'name': 'Max', 'age': 25}, {'name': 'Tom', 'age': 32}]\n"
     ]
    }
   ],
   "source": [
    "# other lambda functions\n",
    "\n",
    "# sorting a list of tuples using lambda\n",
    "a = [(1, 2), (4, 1), (9, 10), (13, -3)]\n",
    "a.sort(key=lambda x: x[1])\n",
    "print(a)\n",
    "\n",
    "# sorting a list of dictionaries using lambda\n",
    "a = [{'name': 'Max', 'age': 25}, {'name': 'Tom', 'age': 32}, {'name': 'John', 'age': 22}]\n",
    "a.sort(key=lambda x: x['age'])\n",
    "print(a)"
   ]
  },
  {
   "cell_type": "markdown",
   "metadata": {},
   "source": [
    "## Error Handling"
   ]
  },
  {
   "cell_type": "code",
   "execution_count": null,
   "metadata": {},
   "outputs": [],
   "source": [
    "# error handling\n",
    "try:\n",
    "    a = 5 / 0\n",
    "except ZeroDivisionError:\n",
    "    print(\"division by zero\")\n",
    "except:\n",
    "    print(\"an error occurred\")"
   ]
  },
  {
   "cell_type": "code",
   "execution_count": 170,
   "metadata": {},
   "outputs": [
    {
     "name": "stdout",
     "output_type": "stream",
     "text": [
      "No errors occurred\n",
      "x should be positive\n",
      "This will always execute\n"
     ]
    }
   ],
   "source": [
    "# try except else\n",
    "\n",
    "try:\n",
    "    a = 5 / 1\n",
    "except ZeroDivisionError:\n",
    "    print(\"division by zero\")\n",
    "except:\n",
    "    print(\"an error occurred\")\n",
    "else:\n",
    "    print(\"No errors occurred\")\n",
    "\n",
    "# try except finally\n",
    "x = -5\n",
    "try:\n",
    "    if x < 0:\n",
    "        raise ValueError(\"x should be positive\")\n",
    "except ValueError as e:\n",
    "    print(e)\n",
    "finally:\n",
    "    print(\"This will always execute\")"
   ]
  },
  {
   "cell_type": "code",
   "execution_count": 173,
   "metadata": {},
   "outputs": [
    {
     "name": "stdout",
     "output_type": "stream",
     "text": [
      "An Index error occurred\n",
      "A KeyError occurred\n",
      "The module does not exist\n",
      "A TypeError occurred\n",
      "A ValueError occurred\n",
      "[1, 2, 3]\n",
      "A ZeroDivisionError occurred\n",
      "An IOError occurred\n",
      "Value is too low 4\n"
     ]
    }
   ],
   "source": [
    "# some famous error classes are - ValueError, TypeError, IndexError, KeyError, NameError, ZeroDivisionError, ImportError, IOError, SyntaxError\n",
    "\n",
    "# IndexError\n",
    "try:\n",
    "    a = [1, 2, 3]\n",
    "    print(a[3])\n",
    "except IndexError:\n",
    "    print(\"An Index error occurred\")\n",
    "\n",
    "# KeyError\n",
    "try:\n",
    "    mydict = {'name': 'Max'}\n",
    "    print(mydict['age'])\n",
    "except KeyError:\n",
    "    print(\"A KeyError occurred\")\n",
    "\n",
    "# ImportError\n",
    "try:\n",
    "    import mymodule\n",
    "except ImportError:\n",
    "    print(\"The module does not exist\")\n",
    "\n",
    "# TypeError\n",
    "try:\n",
    "    a = 5 + '10'\n",
    "except TypeError:\n",
    "    print(\"A TypeError occurred\")\n",
    "\n",
    "# ValueError\n",
    "try:\n",
    "    a = int('hello')\n",
    "except ValueError:\n",
    "    print(\"A ValueError occurred\")\n",
    "\n",
    "# NameError\n",
    "try:\n",
    "    print(a)\n",
    "except NameError:\n",
    "    print(\"A NameError occurred\")\n",
    "\n",
    "# ZeroDivisionError\n",
    "try:\n",
    "    a = 5 / 0\n",
    "except ZeroDivisionError:\n",
    "    print(\"A ZeroDivisionError occurred\")\n",
    "\n",
    "# IOError\n",
    "try:\n",
    "    f = open('test.txt')\n",
    "except IOError:\n",
    "    print(\"An IOError occurred\")\n",
    "\n",
    "# SyntaxError\n",
    "'''\n",
    "try:\n",
    "    a = 5 + \n",
    "except SyntaxError:\n",
    "    print(\"A SyntaxError occurred\")\n",
    "'''\n",
    "\n",
    "# custom exceptions\n",
    "class ValueTooHighError(Exception):\n",
    "    pass\n",
    "\n",
    "class ValueTooLowError(Exception):\n",
    "    def __init__(self, message, value):\n",
    "        self.message = message\n",
    "        self.value = value\n",
    "\n",
    "def test_value(x):\n",
    "    if x > 100:\n",
    "        raise ValueTooHighError(\"Value is too high\")\n",
    "    if x < 5:\n",
    "        raise ValueTooLowError(\"Value is too low\", x)\n",
    "\n",
    "try:\n",
    "    test_value(4) # or try 200\n",
    "except ValueTooLowError as e:\n",
    "    print(e.message, e.value)\n",
    "except ValueTooHighError as e:\n",
    "    print(e)\n",
    "\n"
   ]
  },
  {
   "cell_type": "markdown",
   "metadata": {},
   "source": [
    "## Logging"
   ]
  },
  {
   "cell_type": "code",
   "execution_count": 3,
   "metadata": {},
   "outputs": [
    {
     "name": "stderr",
     "output_type": "stream",
     "text": [
      "08/18/2024 10:27:18 - root - DEBUG - This is a debug message\n",
      "08/18/2024 10:27:18 - root - INFO - This is an info message\n",
      "08/18/2024 10:27:18 - root - WARNING - This is a warning message\n",
      "08/18/2024 10:27:18 - root - ERROR - This is an error message\n",
      "08/18/2024 10:27:18 - root - CRITICAL - This is a critical message\n"
     ]
    }
   ],
   "source": [
    "import logging\n",
    "\n",
    "logging.basicConfig(level=logging.DEBUG, format='%(asctime)s - %(name)s - %(levelname)s - %(message)s', datefmt='%m/%d/%Y %H:%M:%S')\n",
    "\n",
    "# in jupyter notebook, inital loggin setup is set during the entrie time the notebook is running\n",
    "# restart to implement new logging settings\n",
    "\n",
    "logging.debug(\"This is a debug message\")\n",
    "logging.info(\"This is an info message\")\n",
    "logging.warning(\"This is a warning message\") # default level\n",
    "logging.error(\"This is an error message\") # default level\n",
    "logging.critical(\"This is a critical message\") # default level\n"
   ]
  },
  {
   "cell_type": "code",
   "execution_count": null,
   "metadata": {},
   "outputs": [],
   "source": [
    "open('')"
   ]
  }
 ],
 "metadata": {
  "kernelspec": {
   "display_name": "Python 3",
   "language": "python",
   "name": "python3"
  },
  "language_info": {
   "codemirror_mode": {
    "name": "ipython",
    "version": 3
   },
   "file_extension": ".py",
   "mimetype": "text/x-python",
   "name": "python",
   "nbconvert_exporter": "python",
   "pygments_lexer": "ipython3",
   "version": "3.12.5"
  }
 },
 "nbformat": 4,
 "nbformat_minor": 2
}
