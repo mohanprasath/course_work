{
 "cells": [
  {
   "cell_type": "markdown",
   "metadata": {},
   "source": [
    "# Intermediate Python Crash Course"
   ]
  },
  {
   "cell_type": "markdown",
   "metadata": {},
   "source": [
    "## 1. Lists"
   ]
  },
  {
   "cell_type": "code",
   "execution_count": 18,
   "metadata": {},
   "outputs": [
    {
     "name": "stdout",
     "output_type": "stream",
     "text": [
      "['banana', 'cherry', 'apple']\n",
      "cherry\n",
      "[5, True, 'apple', 'apple']\n",
      "apple\n",
      "['banana', 'cherry']\n",
      "['banana', 'cherry']\n",
      "['cherry', 'apple']\n",
      "['banana', 'cherry']\n",
      "Yes, 'apple' is in the fruits list\n",
      "No, 'orange' is not in the fruits list\n",
      "['banana', 'blackcurrant', 'apple']\n",
      "['banana', 'blackcurrant', 'apple', 'lemon']\n",
      "['banana', 'blueberry', 'blackcurrant', 'apple', 'lemon']\n",
      "['banana', 'blackcurrant', 'apple', 'lemon']\n",
      "popped list is  ['banana', 'blackcurrant', 'apple']\n",
      "Length of the lists:  3\n",
      "Reversed List is  ['apple', 'blackcurrant', 'banana']\n",
      "New List is  ['apple', 'banana', 'blackcurrant']\n",
      "Original List is  ['apple', 'blackcurrant', 'banana']\n",
      "Sorted List is  ['apple', 'banana', 'blackcurrant']\n",
      "Cleared List is  []\n",
      "[0, 0, 0, 0, 0]\n",
      "[0, 0, 0, 0, 0, 5, True, 'apple', 'apple']\n",
      "[2, 3, 4, 5]\n",
      "[1, 3, 5, 7, 9]\n",
      "[1, 3, 5]\n",
      "[9, 8, 7, 6, 5, 4, 3, 2, 1]\n",
      "Copying a list\n",
      "[1, 2, 3, 4, 5, 6, 7, 8, 9]\n",
      "[1, 2, 3, 4, 5, 6, 7, 8, 9, 10]\n",
      "[1, 2, 3, 4, 5, 6, 7, 8, 9]\n",
      "Copying a list using slicing\n",
      "[1, 2, 3, 4, 5, 6, 7, 8, 9]\n",
      "[1, 2, 3, 4, 5, 6, 7, 8, 9, 11]\n",
      "[1, 2, 3, 4, 5, 6, 7, 8, 9]\n",
      "List comprehension\n",
      "[0, 1, 4, 9, 16, 25, 36, 49, 64, 81]\n"
     ]
    }
   ],
   "source": [
    "mylist = [\"banana\", \"cherry\", \"apple\"]\n",
    "print(mylist)\n",
    "\n",
    "# Accessing items\n",
    "print(mylist[1])\n",
    "\n",
    "mylist2 = [5, True, \"apple\", \"apple\"]\n",
    "print(mylist2)\n",
    "\n",
    "# Negative indexing\n",
    "print(mylist[-1])\n",
    "\n",
    "# Range of indexes\n",
    "print(mylist[0:2])\n",
    "print(mylist[:2])\n",
    "print(mylist[1:])\n",
    "print(mylist[-3:-1])\n",
    "\n",
    "# Check if item exists\n",
    "if \"apple\" in mylist:\n",
    "    print(\"Yes, 'apple' is in the fruits list\")\n",
    "\n",
    "if \"orange\" in mylist:\n",
    "    print(\"Yes, 'orange' is in the fruits list\")\n",
    "else:\n",
    "    print(\"No, 'orange' is not in the fruits list\")\n",
    "\n",
    "# Change item value\n",
    "mylist[1] = \"blackcurrant\"\n",
    "print(mylist)\n",
    "\n",
    "# methods in lists\n",
    "mylist.append(\"lemon\")\n",
    "print(mylist)\n",
    "mylist.insert(1, \"blueberry\")\n",
    "print(mylist)\n",
    "mylist.remove(\"blueberry\")\n",
    "print(mylist)\n",
    "mylist.pop()\n",
    "print(\"popped list is \", mylist)\n",
    "print(\"Length of the lists: \", len(mylist))\n",
    "mylist.reverse()\n",
    "print(\"Reversed List is \", mylist)\n",
    "# creating a new list sorting it \n",
    "newlist = sorted(mylist)\n",
    "print(\"New List is \", newlist)\n",
    "print(\"Original List is \", mylist)\n",
    "# built in sort\n",
    "mylist.sort()\n",
    "print(\"Sorted List is \", mylist)\n",
    "# clear list\n",
    "mylist.clear()\n",
    "print(\"Cleared List is \", mylist)\n",
    "\n",
    "# creating a list\n",
    "mylist = [0] * 5\n",
    "print(mylist)\n",
    "print(mylist + mylist2)\n",
    "\n",
    "# slicing\n",
    "mylist = [1, 2, 3, 4, 5, 6, 7, 8, 9]\n",
    "a = mylist[1:5]\n",
    "print(a)\n",
    "b = mylist[::2] # step size of 2 - every second element\n",
    "print(b)\n",
    "c = mylist[0:6:2]\n",
    "print(c)\n",
    "# reversing a list\n",
    "d = mylist[::-1]\n",
    "print(d)\n",
    "\n",
    "# copying a list\n",
    "print(\"Copying a list\")\n",
    "list_copy = mylist.copy()\n",
    "print(list_copy)\n",
    "list_copy.append(10)\n",
    "print(list_copy)\n",
    "print(mylist)\n",
    "# copy using slicing\n",
    "print(\"Copying a list using slicing\")\n",
    "list_copy = mylist[:]\n",
    "print(list_copy)\n",
    "list_copy.append(11)\n",
    "print(list_copy)\n",
    "print(mylist)\n",
    "\n",
    "# list comprehension\n",
    "print(\"List comprehension\")\n",
    "ranges = [i for i in range(10)]\n",
    "squares = [i*i for i in ranges]\n",
    "print(squares)\n"
   ]
  },
  {
   "cell_type": "code",
   "execution_count": 9,
   "metadata": {},
   "outputs": [
    {
     "name": "stdout",
     "output_type": "stream",
     "text": [
      "Index out of range\n"
     ]
    }
   ],
   "source": [
    "# Error Samples #1 IndexError\n",
    "try:\n",
    "    mylist[4]\n",
    "except IndexError:\n",
    "    print(\"Index out of range\")\n",
    "except:\n",
    "    print(\"An error occurred\")"
   ]
  },
  {
   "cell_type": "code",
   "execution_count": 8,
   "metadata": {},
   "outputs": [
    {
     "name": "stdout",
     "output_type": "stream",
     "text": [
      "Value not found\n"
     ]
    }
   ],
   "source": [
    "# Error Samples #2 value Error Example\n",
    "try:\n",
    "    mylist.remove(\"blueberry\")\n",
    "except ValueError:\n",
    "    print(\"Value not found\")\n",
    "except:\n",
    "    print(\"An error occurred\")"
   ]
  }
 ],
 "metadata": {
  "kernelspec": {
   "display_name": "Python 3",
   "language": "python",
   "name": "python3"
  },
  "language_info": {
   "codemirror_mode": {
    "name": "ipython",
    "version": 3
   },
   "file_extension": ".py",
   "mimetype": "text/x-python",
   "name": "python",
   "nbconvert_exporter": "python",
   "pygments_lexer": "ipython3",
   "version": "3.12.5"
  }
 },
 "nbformat": 4,
 "nbformat_minor": 2
}
