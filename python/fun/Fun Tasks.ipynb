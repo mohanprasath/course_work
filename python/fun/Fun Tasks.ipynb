{
 "cells": [
  {
   "cell_type": "code",
   "execution_count": 6,
   "id": "176db568-63cf-4b1c-909a-9ccfabffc8fe",
   "metadata": {},
   "outputs": [
    {
     "data": {
      "text/plain": [
       "dict_values([['cat', 'tac'], ['ball']])"
      ]
     },
     "execution_count": 6,
     "metadata": {},
     "output_type": "execute_result"
    }
   ],
   "source": [
    "# anagrams\n",
    "from collections import defaultdict \n",
    "class Anagrams:\n",
    "    def groupAnagrams(self, strs):\n",
    "        groups = defaultdict(list)\n",
    "        for string in strs:\n",
    "            key = [0] * 26\n",
    "            for character in string:\n",
    "                key[ord(character) - ord('a')+1] += 1\n",
    "            key = tuple(key)\n",
    "            groups[key].append(string)\n",
    "        return groups.values()\n",
    "\n",
    "anagrams = Anagrams()\n",
    "anagrams.groupAnagrams(['cat', 'tac', 'ball'])"
   ]
  },
  {
   "cell_type": "code",
   "execution_count": 8,
   "id": "cb4b089e-b991-4d04-a60e-05a758018221",
   "metadata": {},
   "outputs": [
    {
     "data": {
      "text/plain": [
       "2"
      ]
     },
     "execution_count": 8,
     "metadata": {},
     "output_type": "execute_result"
    }
   ],
   "source": [
    "ord('c')-ord('a')"
   ]
  },
  {
   "cell_type": "code",
   "execution_count": null,
   "id": "09556b67-56d2-4237-afa1-41cc9ef1b1bd",
   "metadata": {},
   "outputs": [],
   "source": []
  }
 ],
 "metadata": {
  "kernelspec": {
   "display_name": "Python 3 (ipykernel)",
   "language": "python",
   "name": "python3"
  },
  "language_info": {
   "codemirror_mode": {
    "name": "ipython",
    "version": 3
   },
   "file_extension": ".py",
   "mimetype": "text/x-python",
   "name": "python",
   "nbconvert_exporter": "python",
   "pygments_lexer": "ipython3",
   "version": "3.11.8"
  }
 },
 "nbformat": 4,
 "nbformat_minor": 5
}
