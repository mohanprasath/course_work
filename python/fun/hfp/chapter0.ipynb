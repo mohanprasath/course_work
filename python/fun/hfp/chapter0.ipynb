{
 "cells": [
  {
   "cell_type": "markdown",
   "metadata": {},
   "source": [
    "# Chapter 0"
   ]
  },
  {
   "cell_type": "code",
   "execution_count": null,
   "metadata": {},
   "outputs": [],
   "source": [
    "# Using REPL to interact with the program - READ EVAL PRINT LOOP"
   ]
  },
  {
   "cell_type": "code",
   "execution_count": 3,
   "metadata": {},
   "outputs": [],
   "source": [
    "import random # BIM Built in module\n",
    "\n",
    "suits = [\"clubs\", \"spades\", \"Hearts\", \"Diamonds\"]\n",
    "faces = [\"Jack\", \"Queen\", \"King\", \"Ace\"]\n",
    "numbered = [2, 3, 4, 5, 6, 7, 8, 9, 10]"
   ]
  },
  {
   "cell_type": "code",
   "execution_count": 4,
   "metadata": {},
   "outputs": [],
   "source": [
    "def draw():\n",
    "    the_suit = random.choice(suits) # BIF Built in function\n",
    "    the_card = random.choice(numbered + faces)\n",
    "    return the_card, \"of\", the_suit"
   ]
  },
  {
   "cell_type": "code",
   "execution_count": 6,
   "metadata": {},
   "outputs": [
    {
     "name": "stdout",
     "output_type": "stream",
     "text": [
      "(3, 'of', 'clubs')\n",
      "(8, 'of', 'Hearts')\n",
      "(6, 'of', 'spades')\n",
      "(7, 'of', 'clubs')\n",
      "(10, 'of', 'spades')\n",
      "(4, 'of', 'spades')\n",
      "(2, 'of', 'Hearts')\n",
      "(9, 'of', 'spades')\n",
      "(10, 'of', 'clubs')\n",
      "(4, 'of', 'Diamonds')\n",
      "(3, 'of', 'Diamonds')\n",
      "(8, 'of', 'Hearts')\n",
      "(5, 'of', 'clubs')\n",
      "('Jack', 'of', 'Hearts')\n",
      "('Jack', 'of', 'Hearts')\n",
      "(9, 'of', 'spades')\n",
      "(8, 'of', 'clubs')\n",
      "(10, 'of', 'Hearts')\n",
      "(3, 'of', 'clubs')\n",
      "(4, 'of', 'Diamonds')\n"
     ]
    }
   ],
   "source": [
    "for _ in range(20): # _ is a variable filler i.e. not used\n",
    "    print(draw())"
   ]
  },
  {
   "cell_type": "code",
   "execution_count": 7,
   "metadata": {},
   "outputs": [
    {
     "data": {
      "text/plain": [
       "0"
      ]
     },
     "execution_count": 7,
     "metadata": {},
     "output_type": "execute_result"
    }
   ],
   "source": [
    "# Jack of Heart is twice but the other 18 are unique\n",
    "# The Big 4: list, tuple, set, dictionary\n",
    "\n",
    "deck = set()\n",
    "type(deck)\n",
    "len(deck)"
   ]
  },
  {
   "cell_type": "code",
   "execution_count": 8,
   "metadata": {},
   "outputs": [
    {
     "name": "stdout",
     "output_type": "stream",
     "text": [
      "['__and__', '__class__', '__class_getitem__', '__contains__', '__delattr__', '__dir__', '__doc__', '__eq__', '__format__', '__ge__', '__getattribute__', '__getstate__', '__gt__', '__hash__', '__iand__', '__init__', '__init_subclass__', '__ior__', '__isub__', '__iter__', '__ixor__', '__le__', '__len__', '__lt__', '__ne__', '__new__', '__or__', '__rand__', '__reduce__', '__reduce_ex__', '__repr__', '__ror__', '__rsub__', '__rxor__', '__setattr__', '__sizeof__', '__str__', '__sub__', '__subclasshook__', '__xor__', 'add', 'clear', 'copy', 'difference', 'difference_update', 'discard', 'intersection', 'intersection_update', 'isdisjoint', 'issubset', 'issuperset', 'pop', 'remove', 'symmetric_difference', 'symmetric_difference_update', 'union', 'update']\n"
     ]
    }
   ],
   "source": [
    "print(dir(deck)) # Shows all the methods that can be used with the set"
   ]
  },
  {
   "cell_type": "code",
   "execution_count": 9,
   "metadata": {},
   "outputs": [
    {
     "name": "stdout",
     "output_type": "stream",
     "text": [
      "Help on built-in function add:\n",
      "\n",
      "add(...) method of builtins.set instance\n",
      "    Add an element to a set.\n",
      "\n",
      "    This has no effect if the element is already present.\n",
      "\n"
     ]
    }
   ],
   "source": [
    "help(deck.add) # Shows the help for the add method"
   ]
  },
  {
   "cell_type": "code",
   "execution_count": 14,
   "metadata": {},
   "outputs": [
    {
     "data": {
      "text/plain": [
       "55"
      ]
     },
     "execution_count": 14,
     "metadata": {},
     "output_type": "execute_result"
    }
   ],
   "source": [
    "# populate the set with cards\n",
    "for suit in suits:\n",
    "    for face in faces + numbered:\n",
    "        deck.add((card, 'of', suit))\n",
    "\n",
    "len(deck)"
   ]
  },
  {
   "cell_type": "code",
   "execution_count": 17,
   "metadata": {},
   "outputs": [
    {
     "name": "stdout",
     "output_type": "stream",
     "text": [
      "('King of clubs', 'of', 'Hearts')\n"
     ]
    },
    {
     "data": {
      "text/plain": [
       "53"
      ]
     },
     "execution_count": 17,
     "metadata": {},
     "output_type": "execute_result"
    }
   ],
   "source": [
    "card = random.choice(list(deck))\n",
    "print(card)\n",
    "deck.remove(card)\n",
    "len(deck)"
   ]
  },
  {
   "cell_type": "code",
   "execution_count": 18,
   "metadata": {},
   "outputs": [
    {
     "data": {
      "text/plain": [
       "tuple"
      ]
     },
     "execution_count": 18,
     "metadata": {},
     "output_type": "execute_result"
    }
   ],
   "source": [
    "type(card)"
   ]
  },
  {
   "cell_type": "code",
   "execution_count": 19,
   "metadata": {},
   "outputs": [],
   "source": [
    "def draw():\n",
    "    card = random.choice(list(deck))\n",
    "    deck.remove(card)\n",
    "    return card"
   ]
  },
  {
   "cell_type": "code",
   "execution_count": null,
   "metadata": {},
   "outputs": [],
   "source": [
    "# PSL - python standard library\n",
    "'''\n",
    "random - can generate numbers in an unpredictable order\n",
    "collections - provides a bunch of advanced data types\n",
    "os - lets you interact with the operating system\n",
    "itertools - for all your advanced looping needs\n",
    "http.server - it's a built-in web server\n",
    "pdb - you can use this to debug your python code\n",
    "pprint - this does the trick when your output needs to be pretty\n",
    "csv - processes a comma-delimited file of text\n",
    "stat - for getting file status, like size, permissions, etc\n",
    "unittest - for testing your code in a structured way\n",
    "re - regular expressions library\n",
    "enum - a set of typed name values\n",
    "ssl - digital certs and encrypted conenctions rely on this module\n",
    "json - for working with JSON data\n",
    "sys - tells you all about the system you're running on\n",
    "zipfile - if your data's compressed in a file this is the module for you\n",
    "sqllite3 - the world's most popular embedded relational database system\n",
    "'''"
   ]
  },
  {
   "cell_type": "code",
   "execution_count": 20,
   "metadata": {},
   "outputs": [
    {
     "name": "stdout",
     "output_type": "stream",
     "text": [
      "The Zen of Python, by Tim Peters\n",
      "\n",
      "Beautiful is better than ugly.\n",
      "Explicit is better than implicit.\n",
      "Simple is better than complex.\n",
      "Complex is better than complicated.\n",
      "Flat is better than nested.\n",
      "Sparse is better than dense.\n",
      "Readability counts.\n",
      "Special cases aren't special enough to break the rules.\n",
      "Although practicality beats purity.\n",
      "Errors should never pass silently.\n",
      "Unless explicitly silenced.\n",
      "In the face of ambiguity, refuse the temptation to guess.\n",
      "There should be one-- and preferably only one --obvious way to do it.\n",
      "Although that way may not be obvious at first unless you're Dutch.\n",
      "Now is better than never.\n",
      "Although never is often better than *right* now.\n",
      "If the implementation is hard to explain, it's a bad idea.\n",
      "If the implementation is easy to explain, it may be a good idea.\n",
      "Namespaces are one honking great idea -- let's do more of those!\n"
     ]
    }
   ],
   "source": [
    "# PyPI - Python Package Index - pie-pie-eye\n",
    "import this"
   ]
  },
  {
   "cell_type": "code",
   "execution_count": 21,
   "metadata": {},
   "outputs": [],
   "source": [
    "import antigravity"
   ]
  },
  {
   "cell_type": "code",
   "execution_count": null,
   "metadata": {},
   "outputs": [],
   "source": [
    "# Notebook - Jupyter Shortcuts\n",
    "# Shift + Enter - Run the cell\n",
    "# Esc - Command mode\n",
    "# Enter - Edit mode\n",
    "# A - Insert cell above\n",
    "# B - Insert cell below\n",
    "# D D - Delete cell\n",
    "# M - Change cell to Markdown\n",
    "# Y - Change cell to Code\n",
    "# H - Show keyboard shortcuts\n",
    "# Shift + M - Merge selected cells\n",
    "# Ctrl + Shift + - Split cell at cursor\n",
    "# Ctrl + / - Comment/Uncomment\n",
    "# Ctrl + Shift + - Zoom in\n",
    "# Ctrl + Shift - Zoom out\n",
    "# Shift + L - Toggle line numbers\n",
    "# Shift + O - Toggle output\n",
    "# Tab - Code completion or indent\n",
    "# Shift + Tab - Tooltip\n",
    "# Shift + Tab + Tab - Full tooltip\n",
    "# Ctrl + Enter - Run cell\n",
    "# Alt + Enter - Run cell and insert below\n",
    "# Ctrl + S - Save and checkpoint\n",
    "# Ctrl + Z - Undo\n",
    "# Ctrl + Y - Redo\n",
    "# Ctrl + F - Find and replace\n",
    "# Ctrl + H - Find and replace\n",
    "# Ctrl + Shift + F - Find in files\n",
    "\n",
    "# Jupyter Magic Commands\n",
    "# %lsmagic - List all magic commands\n",
    "# %pwd - Print working directory\n",
    "# %cd - Change directory\n",
    "# %ls - List files in current directory\n",
    "# %matplotlib inline - Display plots inline\n",
    "# %time - Time the execution of a single statement\n",
    "# %%time - Time the execution of multiple statements\n"
   ]
  }
 ],
 "metadata": {
  "kernelspec": {
   "display_name": "Python 3",
   "language": "python",
   "name": "python3"
  },
  "language_info": {
   "codemirror_mode": {
    "name": "ipython",
    "version": 3
   },
   "file_extension": ".py",
   "mimetype": "text/x-python",
   "name": "python",
   "nbconvert_exporter": "python",
   "pygments_lexer": "ipython3",
   "version": "3.12.5"
  }
 },
 "nbformat": 4,
 "nbformat_minor": 2
}
