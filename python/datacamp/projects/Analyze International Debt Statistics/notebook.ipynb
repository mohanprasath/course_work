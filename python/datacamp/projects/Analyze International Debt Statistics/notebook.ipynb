{
 "cells": [
  {
   "source": [
    "![](image.jpg)\n",
    "\n",
    "It's not that we humans only take debts to manage our necessities. A country may also take debt to manage its economy. For example, infrastructure spending is one costly ingredient required for a country's citizens to lead comfortable lives. [The World Bank](https://www.worldbank.org) is the organization that provides debt to countries.\n",
    "\n",
    "In this notebook, we are going to analyze international debt data collected by The World Bank. The dataset contains information about the amount of debt (in USD) owed by developing countries across several categories. We are going to find the answers to questions like: \n",
    "\n",
    "- What is the total amount of debt that is owed by the countries listed in the dataset?\n",
    "- Which country owes the maximum amount of debt and what does that amount look like?\n",
    "- What is the average amount of debt owed by countries across different debt indicators?\n",
    "\n",
    "Below is a basic schema of the database you will be working with:\n",
    "\n",
    "## `debt_indicators` table\n",
    "\n",
    "| Column | Definition | Data Type |\n",
    "|-|-|-|\n",
    "|country_name|Name of the country|`varchar`|\n",
    "|country_code|Code representing the country|`varchar`|\n",
    "|indicator_name|Description of the debt indicator|`varchar`|\n",
    "|indicator_code|Code representing the debt indicator|`varchar`|\n",
    "|debt|Value of the debt indicator for the given country (in current US dollars)|`float`|\n",
    "\n",
    "You will execute SQL queries to answer six questions, as listed in the instructions."
   ],
   "metadata": {},
   "id": "9041cd2e-a5a6-44dd-acd9-4daae006c067",
   "cell_type": "markdown"
  },
  {
   "source": [
    "--num_distinct_countries\n",
    "select count(distinct(country_name)) as total_distinct_countries from international_debt"
   ],
   "metadata": {
    "customType": "sql",
    "dataFrameVariableName": "num_distinct_countries",
    "sqlCellMode": "dataFrame",
    "sqlSource": {
     "integrationId": "89e17161-a224-4a8a-846b-0adc0fe7a4b1",
     "integrationType": "postgresql",
     "type": "integration"
    },
    "executionCancelledAt": null,
    "executionTime": 742,
    "lastExecutedAt": 1713898941414,
    "lastScheduledRunId": null,
    "lastSuccessfullyExecutedCode": "--num_distinct_countries\nselect count(distinct(country_name)) as total_distinct_countries from international_debt",
    "lastExecutedByKernel": "a5fbc1fb-8eef-45c6-86d4-b2bae145fca3",
    "outputsMetadata": {
     "0": {
      "height": 96,
      "type": "dataFrame"
     }
    }
   },
   "id": "63ae86de-f519-4736-a9ab-886f71129cf3",
   "cell_type": "code",
   "execution_count": 59,
   "outputs": [
    {
     "output_type": "execute_result",
     "data": {
      "application/com.datacamp.data-table.v2+json": {
       "table": {
        "schema": {
         "fields": [
          {
           "name": "index",
           "type": "integer"
          },
          {
           "name": "total_distinct_countries",
           "type": "integer"
          }
         ],
         "primaryKey": [
          "index"
         ],
         "pandas_version": "1.4.0"
        },
        "data": {
         "index": [
          0
         ],
         "total_distinct_countries": [
          124
         ]
        }
       },
       "total_rows": 1,
       "truncation_type": null
      },
      "text/plain": "   total_distinct_countries\n0                       124",
      "text/html": "<div>\n<style scoped>\n    .dataframe tbody tr th:only-of-type {\n        vertical-align: middle;\n    }\n\n    .dataframe tbody tr th {\n        vertical-align: top;\n    }\n\n    .dataframe thead th {\n        text-align: right;\n    }\n</style>\n<table border=\"1\" class=\"dataframe\">\n  <thead>\n    <tr style=\"text-align: right;\">\n      <th></th>\n      <th>total_distinct_countries</th>\n    </tr>\n  </thead>\n  <tbody>\n    <tr>\n      <th>0</th>\n      <td>124</td>\n    </tr>\n  </tbody>\n</table>\n</div>"
     },
     "metadata": {},
     "execution_count": 59,
     "@datacamp/metadata": {
      "executedQuery": "--num_distinct_countries\nselect count(distinct(country_name)) as total_distinct_countries from international_debt",
      "executedQueryParameters": []
     }
    }
   ]
  },
  {
   "source": [
    "--distinct_debt_indicators\n",
    "SELECT distinct(indicator_name) as distinct_debt_indicators from public.international_debt"
   ],
   "metadata": {
    "customType": "sql",
    "dataFrameVariableName": "distinct_debt_indicators",
    "sqlCellMode": "dataFrame",
    "sqlSource": {
     "integrationId": "89e17161-a224-4a8a-846b-0adc0fe7a4b1",
     "integrationType": "postgresql",
     "type": "integration"
    },
    "executionCancelledAt": null,
    "executionTime": 880,
    "lastExecutedAt": 1713898942294,
    "lastScheduledRunId": null,
    "lastSuccessfullyExecutedCode": "--distinct_debt_indicators\nSELECT distinct(indicator_name) as distinct_debt_indicators from public.international_debt",
    "lastExecutedByKernel": "a5fbc1fb-8eef-45c6-86d4-b2bae145fca3",
    "outputsMetadata": {
     "0": {
      "height": 321,
      "type": "dataFrame"
     }
    }
   },
   "id": "52e80fbc-fac4-4456-8c42-c958f79dc8bc",
   "cell_type": "code",
   "execution_count": 60,
   "outputs": [
    {
     "output_type": "execute_result",
     "data": {
      "application/com.datacamp.data-table.v2+json": {
       "table": {
        "schema": {
         "fields": [
          {
           "name": "index",
           "type": "integer"
          },
          {
           "name": "distinct_debt_indicators",
           "type": "string"
          }
         ],
         "primaryKey": [
          "index"
         ],
         "pandas_version": "1.4.0"
        },
        "data": {
         "index": [
          0,
          1,
          2,
          3,
          4,
          5,
          6,
          7,
          8,
          9,
          10,
          11,
          12,
          13,
          14,
          15,
          16,
          17,
          18,
          19,
          20,
          21,
          22,
          23,
          24
         ],
         "distinct_debt_indicators": [
          "Principal repayments on external debt, private nonguaranteed (PNG) (AMT, current US$)",
          "PPG, bonds (INT, current US$)",
          "Interest payments on external debt, long-term (INT, current US$)",
          "PPG, multilateral (INT, current US$)",
          "PPG, commercial banks (AMT, current US$)",
          "PPG, official creditors (AMT, current US$)",
          "PPG, bonds (AMT, current US$)",
          "Interest payments on external debt, private nonguaranteed (PNG) (INT, current US$)",
          "PPG, bilateral (AMT, current US$)",
          "PPG, private creditors (INT, current US$)",
          "PPG, other private creditors (DIS, current US$)",
          "PPG, official creditors (INT, current US$)",
          "Disbursements on external debt, long-term (DIS, current US$)",
          "PPG, multilateral (DIS, current US$)",
          "PPG, bilateral (INT, current US$)",
          "PPG, official creditors (DIS, current US$)",
          "Principal repayments on external debt, long-term (AMT, current US$)",
          "PPG, bilateral (DIS, current US$)",
          "PPG, private creditors (AMT, current US$)",
          "PPG, commercial banks (DIS, current US$)",
          "PPG, other private creditors (INT, current US$)",
          "PPG, multilateral (AMT, current US$)",
          "PPG, commercial banks (INT, current US$)",
          "PPG, private creditors (DIS, current US$)",
          "PPG, other private creditors (AMT, current US$)"
         ]
        }
       },
       "total_rows": 25,
       "truncation_type": null
      },
      "text/plain": "                             distinct_debt_indicators\n0   Principal repayments on external debt, private...\n1                       PPG, bonds (INT, current US$)\n2   Interest payments on external debt, long-term ...\n3                PPG, multilateral (INT, current US$)\n4            PPG, commercial banks (AMT, current US$)\n5          PPG, official creditors (AMT, current US$)\n6                       PPG, bonds (AMT, current US$)\n7   Interest payments on external debt, private no...\n8                   PPG, bilateral (AMT, current US$)\n9           PPG, private creditors (INT, current US$)\n10    PPG, other private creditors (DIS, current US$)\n11         PPG, official creditors (INT, current US$)\n12  Disbursements on external debt, long-term (DIS...\n13               PPG, multilateral (DIS, current US$)\n14                  PPG, bilateral (INT, current US$)\n15         PPG, official creditors (DIS, current US$)\n16  Principal repayments on external debt, long-te...\n17                  PPG, bilateral (DIS, current US$)\n18          PPG, private creditors (AMT, current US$)\n19           PPG, commercial banks (DIS, current US$)\n20    PPG, other private creditors (INT, current US$)\n21               PPG, multilateral (AMT, current US$)\n22           PPG, commercial banks (INT, current US$)\n23          PPG, private creditors (DIS, current US$)\n24    PPG, other private creditors (AMT, current US$)",
      "text/html": "<div>\n<style scoped>\n    .dataframe tbody tr th:only-of-type {\n        vertical-align: middle;\n    }\n\n    .dataframe tbody tr th {\n        vertical-align: top;\n    }\n\n    .dataframe thead th {\n        text-align: right;\n    }\n</style>\n<table border=\"1\" class=\"dataframe\">\n  <thead>\n    <tr style=\"text-align: right;\">\n      <th></th>\n      <th>distinct_debt_indicators</th>\n    </tr>\n  </thead>\n  <tbody>\n    <tr>\n      <th>0</th>\n      <td>Principal repayments on external debt, private...</td>\n    </tr>\n    <tr>\n      <th>1</th>\n      <td>PPG, bonds (INT, current US$)</td>\n    </tr>\n    <tr>\n      <th>2</th>\n      <td>Interest payments on external debt, long-term ...</td>\n    </tr>\n    <tr>\n      <th>3</th>\n      <td>PPG, multilateral (INT, current US$)</td>\n    </tr>\n    <tr>\n      <th>4</th>\n      <td>PPG, commercial banks (AMT, current US$)</td>\n    </tr>\n    <tr>\n      <th>5</th>\n      <td>PPG, official creditors (AMT, current US$)</td>\n    </tr>\n    <tr>\n      <th>6</th>\n      <td>PPG, bonds (AMT, current US$)</td>\n    </tr>\n    <tr>\n      <th>7</th>\n      <td>Interest payments on external debt, private no...</td>\n    </tr>\n    <tr>\n      <th>8</th>\n      <td>PPG, bilateral (AMT, current US$)</td>\n    </tr>\n    <tr>\n      <th>9</th>\n      <td>PPG, private creditors (INT, current US$)</td>\n    </tr>\n    <tr>\n      <th>10</th>\n      <td>PPG, other private creditors (DIS, current US$)</td>\n    </tr>\n    <tr>\n      <th>11</th>\n      <td>PPG, official creditors (INT, current US$)</td>\n    </tr>\n    <tr>\n      <th>12</th>\n      <td>Disbursements on external debt, long-term (DIS...</td>\n    </tr>\n    <tr>\n      <th>13</th>\n      <td>PPG, multilateral (DIS, current US$)</td>\n    </tr>\n    <tr>\n      <th>14</th>\n      <td>PPG, bilateral (INT, current US$)</td>\n    </tr>\n    <tr>\n      <th>15</th>\n      <td>PPG, official creditors (DIS, current US$)</td>\n    </tr>\n    <tr>\n      <th>16</th>\n      <td>Principal repayments on external debt, long-te...</td>\n    </tr>\n    <tr>\n      <th>17</th>\n      <td>PPG, bilateral (DIS, current US$)</td>\n    </tr>\n    <tr>\n      <th>18</th>\n      <td>PPG, private creditors (AMT, current US$)</td>\n    </tr>\n    <tr>\n      <th>19</th>\n      <td>PPG, commercial banks (DIS, current US$)</td>\n    </tr>\n    <tr>\n      <th>20</th>\n      <td>PPG, other private creditors (INT, current US$)</td>\n    </tr>\n    <tr>\n      <th>21</th>\n      <td>PPG, multilateral (AMT, current US$)</td>\n    </tr>\n    <tr>\n      <th>22</th>\n      <td>PPG, commercial banks (INT, current US$)</td>\n    </tr>\n    <tr>\n      <th>23</th>\n      <td>PPG, private creditors (DIS, current US$)</td>\n    </tr>\n    <tr>\n      <th>24</th>\n      <td>PPG, other private creditors (AMT, current US$)</td>\n    </tr>\n  </tbody>\n</table>\n</div>"
     },
     "metadata": {},
     "execution_count": 60,
     "@datacamp/metadata": {
      "executedQuery": "--distinct_debt_indicators\nSELECT distinct(indicator_name) as distinct_debt_indicators from public.international_debt",
      "executedQueryParameters": []
     }
    }
   ]
  },
  {
   "source": [
    "--total_debt\n",
    "SELECT \n",
    "    ROUND(SUM(international_debt.debt)/1000000, 2) AS total_debt\n",
    "FROM international_debt; "
   ],
   "metadata": {
    "customType": "sql",
    "dataFrameVariableName": "total_debt",
    "sqlCellMode": "dataFrame",
    "sqlSource": {
     "integrationId": "89e17161-a224-4a8a-846b-0adc0fe7a4b1",
     "integrationType": "postgresql",
     "type": "integration"
    },
    "executionCancelledAt": null,
    "executionTime": 776,
    "lastExecutedAt": 1713898943070,
    "lastScheduledRunId": null,
    "lastSuccessfullyExecutedCode": "--total_debt\nSELECT \n    ROUND(SUM(international_debt.debt)/1000000, 2) AS total_debt\nFROM international_debt; ",
    "lastExecutedByKernel": "a5fbc1fb-8eef-45c6-86d4-b2bae145fca3",
    "outputsMetadata": {
     "0": {
      "height": 96,
      "type": "dataFrame"
     }
    }
   },
   "id": "0b55b1e1-9241-40c0-8da9-87ba27a6105b",
   "cell_type": "code",
   "execution_count": 61,
   "outputs": [
    {
     "output_type": "execute_result",
     "data": {
      "application/com.datacamp.data-table.v2+json": {
       "table": {
        "schema": {
         "fields": [
          {
           "name": "index",
           "type": "integer"
          },
          {
           "name": "total_debt",
           "type": "number"
          }
         ],
         "primaryKey": [
          "index"
         ],
         "pandas_version": "1.4.0"
        },
        "data": {
         "index": [
          0
         ],
         "total_debt": [
          3079734.49
         ]
        }
       },
       "total_rows": 1,
       "truncation_type": null
      },
      "text/plain": "   total_debt\n0  3079734.49",
      "text/html": "<div>\n<style scoped>\n    .dataframe tbody tr th:only-of-type {\n        vertical-align: middle;\n    }\n\n    .dataframe tbody tr th {\n        vertical-align: top;\n    }\n\n    .dataframe thead th {\n        text-align: right;\n    }\n</style>\n<table border=\"1\" class=\"dataframe\">\n  <thead>\n    <tr style=\"text-align: right;\">\n      <th></th>\n      <th>total_debt</th>\n    </tr>\n  </thead>\n  <tbody>\n    <tr>\n      <th>0</th>\n      <td>3079734.49</td>\n    </tr>\n  </tbody>\n</table>\n</div>"
     },
     "metadata": {},
     "execution_count": 61,
     "@datacamp/metadata": {
      "executedQuery": "--total_debt\nSELECT \n    ROUND(SUM(international_debt.debt)/1000000, 2) AS total_debt\nFROM international_debt; ",
      "executedQueryParameters": []
     }
    }
   ]
  },
  {
   "source": [
    "--highest_debt_country\n",
    "SELECT \n",
    "    international_debt.country_name, \n",
    "    SUM(international_debt.debt) AS total_debt\n",
    "FROM international_debt\n",
    "GROUP BY country_name\n",
    "ORDER BY total_debt DESC\n",
    "LIMIT 1;"
   ],
   "metadata": {
    "customType": "sql",
    "dataFrameVariableName": "highest_debt_country",
    "sqlCellMode": "dataFrame",
    "sqlSource": {
     "integrationId": "89e17161-a224-4a8a-846b-0adc0fe7a4b1",
     "integrationType": "postgresql",
     "type": "integration"
    },
    "executionCancelledAt": null,
    "executionTime": 725,
    "lastExecutedAt": 1713898943795,
    "lastScheduledRunId": null,
    "lastSuccessfullyExecutedCode": "--highest_debt_country\nSELECT \n    international_debt.country_name, \n    SUM(international_debt.debt) AS total_debt\nFROM international_debt\nGROUP BY country_name\nORDER BY total_debt DESC\nLIMIT 1;",
    "lastExecutedByKernel": "a5fbc1fb-8eef-45c6-86d4-b2bae145fca3",
    "outputsMetadata": {
     "0": {
      "height": 96,
      "type": "dataFrame"
     }
    }
   },
   "id": "8b8afd6e-b2eb-4637-a16f-8671b51e7317",
   "cell_type": "code",
   "execution_count": 62,
   "outputs": [
    {
     "output_type": "execute_result",
     "data": {
      "application/com.datacamp.data-table.v2+json": {
       "table": {
        "schema": {
         "fields": [
          {
           "name": "index",
           "type": "integer"
          },
          {
           "name": "country_name",
           "type": "string"
          },
          {
           "name": "total_debt",
           "type": "number"
          }
         ],
         "primaryKey": [
          "index"
         ],
         "pandas_version": "1.4.0"
        },
        "data": {
         "index": [
          0
         ],
         "country_name": [
          "China"
         ],
         "total_debt": [
          2.857934947342E11
         ]
        }
       },
       "total_rows": 1,
       "truncation_type": null
      },
      "text/plain": "  country_name    total_debt\n0        China  2.857935e+11",
      "text/html": "<div>\n<style scoped>\n    .dataframe tbody tr th:only-of-type {\n        vertical-align: middle;\n    }\n\n    .dataframe tbody tr th {\n        vertical-align: top;\n    }\n\n    .dataframe thead th {\n        text-align: right;\n    }\n</style>\n<table border=\"1\" class=\"dataframe\">\n  <thead>\n    <tr style=\"text-align: right;\">\n      <th></th>\n      <th>country_name</th>\n      <th>total_debt</th>\n    </tr>\n  </thead>\n  <tbody>\n    <tr>\n      <th>0</th>\n      <td>China</td>\n      <td>2.857935e+11</td>\n    </tr>\n  </tbody>\n</table>\n</div>"
     },
     "metadata": {},
     "execution_count": 62,
     "@datacamp/metadata": {
      "executedQuery": "--highest_debt_country\nSELECT \n    international_debt.country_name, \n    SUM(international_debt.debt) AS total_debt\nFROM international_debt\nGROUP BY country_name\nORDER BY total_debt DESC\nLIMIT 1;",
      "executedQueryParameters": []
     }
    }
   ]
  },
  {
   "source": [
    "--avg_debt_per_indicator\n",
    "SELECT \n",
    "    international_debt.indicator_code AS debt_indicator,\n",
    "    international_debt.indicator_name,\n",
    "    AVG(international_debt.debt) AS average_debt\n",
    "FROM international_debt\n",
    "GROUP BY debt_indicator, indicator_name\n",
    "ORDER BY average_debt DESC\n",
    "LIMIT 10;"
   ],
   "metadata": {
    "customType": "sql",
    "dataFrameVariableName": "avg_debt_per_indicator",
    "sqlCellMode": "dataFrame",
    "sqlSource": {
     "integrationId": "89e17161-a224-4a8a-846b-0adc0fe7a4b1",
     "integrationType": "postgresql",
     "type": "integration"
    },
    "executionCancelledAt": null,
    "executionTime": 715,
    "lastExecutedAt": 1713898944510,
    "lastScheduledRunId": null,
    "lastSuccessfullyExecutedCode": "--avg_debt_per_indicator\nSELECT \n    international_debt.indicator_code AS debt_indicator,\n    international_debt.indicator_name,\n    AVG(international_debt.debt) AS average_debt\nFROM international_debt\nGROUP BY debt_indicator, indicator_name\nORDER BY average_debt DESC\nLIMIT 10;",
    "lastExecutedByKernel": "a5fbc1fb-8eef-45c6-86d4-b2bae145fca3",
    "outputsMetadata": {
     "0": {
      "height": 321,
      "type": "dataFrame"
     }
    }
   },
   "id": "8df97dba-cc21-4f06-87be-5912658f2f42",
   "cell_type": "code",
   "execution_count": 63,
   "outputs": [
    {
     "output_type": "execute_result",
     "data": {
      "application/com.datacamp.data-table.v2+json": {
       "table": {
        "schema": {
         "fields": [
          {
           "name": "index",
           "type": "integer"
          },
          {
           "name": "debt_indicator",
           "type": "string"
          },
          {
           "name": "indicator_name",
           "type": "string"
          },
          {
           "name": "average_debt",
           "type": "number"
          }
         ],
         "primaryKey": [
          "index"
         ],
         "pandas_version": "1.4.0"
        },
        "data": {
         "index": [
          0,
          1,
          2,
          3,
          4,
          5,
          6,
          7,
          8,
          9
         ],
         "debt_indicator": [
          "DT.AMT.DLXF.CD",
          "DT.AMT.DPNG.CD",
          "DT.DIS.DLXF.CD",
          "DT.DIS.OFFT.CD",
          "DT.AMT.PRVT.CD",
          "DT.INT.DLXF.CD",
          "DT.DIS.BLAT.CD",
          "DT.INT.DPNG.CD",
          "DT.AMT.OFFT.CD",
          "DT.AMT.PBND.CD"
         ],
         "indicator_name": [
          "Principal repayments on external debt, long-term (AMT, current US$)",
          "Principal repayments on external debt, private nonguaranteed (PNG) (AMT, current US$)",
          "Disbursements on external debt, long-term (DIS, current US$)",
          "PPG, official creditors (DIS, current US$)",
          "PPG, private creditors (AMT, current US$)",
          "Interest payments on external debt, long-term (INT, current US$)",
          "PPG, bilateral (DIS, current US$)",
          "Interest payments on external debt, private nonguaranteed (PNG) (INT, current US$)",
          "PPG, official creditors (AMT, current US$)",
          "PPG, bonds (AMT, current US$)"
         ],
         "average_debt": [
          5.904868401499193E9,
          5.161194333812657E9,
          2.152041216890244E9,
          1.958983452859836E9,
          1.8036941019632652E9,
          1.6440240676508064E9,
          1.22313929039823E9,
          1.2204108444215188E9,
          1.1911879630830643E9,
          1.082623947653623E9
         ]
        }
       },
       "total_rows": 10,
       "truncation_type": null
      },
      "text/plain": "   debt_indicator  ...  average_debt\n0  DT.AMT.DLXF.CD  ...  5.904868e+09\n1  DT.AMT.DPNG.CD  ...  5.161194e+09\n2  DT.DIS.DLXF.CD  ...  2.152041e+09\n3  DT.DIS.OFFT.CD  ...  1.958983e+09\n4  DT.AMT.PRVT.CD  ...  1.803694e+09\n5  DT.INT.DLXF.CD  ...  1.644024e+09\n6  DT.DIS.BLAT.CD  ...  1.223139e+09\n7  DT.INT.DPNG.CD  ...  1.220411e+09\n8  DT.AMT.OFFT.CD  ...  1.191188e+09\n9  DT.AMT.PBND.CD  ...  1.082624e+09\n\n[10 rows x 3 columns]",
      "text/html": "<div>\n<style scoped>\n    .dataframe tbody tr th:only-of-type {\n        vertical-align: middle;\n    }\n\n    .dataframe tbody tr th {\n        vertical-align: top;\n    }\n\n    .dataframe thead th {\n        text-align: right;\n    }\n</style>\n<table border=\"1\" class=\"dataframe\">\n  <thead>\n    <tr style=\"text-align: right;\">\n      <th></th>\n      <th>debt_indicator</th>\n      <th>indicator_name</th>\n      <th>average_debt</th>\n    </tr>\n  </thead>\n  <tbody>\n    <tr>\n      <th>0</th>\n      <td>DT.AMT.DLXF.CD</td>\n      <td>Principal repayments on external debt, long-te...</td>\n      <td>5.904868e+09</td>\n    </tr>\n    <tr>\n      <th>1</th>\n      <td>DT.AMT.DPNG.CD</td>\n      <td>Principal repayments on external debt, private...</td>\n      <td>5.161194e+09</td>\n    </tr>\n    <tr>\n      <th>2</th>\n      <td>DT.DIS.DLXF.CD</td>\n      <td>Disbursements on external debt, long-term (DIS...</td>\n      <td>2.152041e+09</td>\n    </tr>\n    <tr>\n      <th>3</th>\n      <td>DT.DIS.OFFT.CD</td>\n      <td>PPG, official creditors (DIS, current US$)</td>\n      <td>1.958983e+09</td>\n    </tr>\n    <tr>\n      <th>4</th>\n      <td>DT.AMT.PRVT.CD</td>\n      <td>PPG, private creditors (AMT, current US$)</td>\n      <td>1.803694e+09</td>\n    </tr>\n    <tr>\n      <th>5</th>\n      <td>DT.INT.DLXF.CD</td>\n      <td>Interest payments on external debt, long-term ...</td>\n      <td>1.644024e+09</td>\n    </tr>\n    <tr>\n      <th>6</th>\n      <td>DT.DIS.BLAT.CD</td>\n      <td>PPG, bilateral (DIS, current US$)</td>\n      <td>1.223139e+09</td>\n    </tr>\n    <tr>\n      <th>7</th>\n      <td>DT.INT.DPNG.CD</td>\n      <td>Interest payments on external debt, private no...</td>\n      <td>1.220411e+09</td>\n    </tr>\n    <tr>\n      <th>8</th>\n      <td>DT.AMT.OFFT.CD</td>\n      <td>PPG, official creditors (AMT, current US$)</td>\n      <td>1.191188e+09</td>\n    </tr>\n    <tr>\n      <th>9</th>\n      <td>DT.AMT.PBND.CD</td>\n      <td>PPG, bonds (AMT, current US$)</td>\n      <td>1.082624e+09</td>\n    </tr>\n  </tbody>\n</table>\n</div>"
     },
     "metadata": {},
     "execution_count": 63,
     "@datacamp/metadata": {
      "executedQuery": "--avg_debt_per_indicator\nSELECT \n    international_debt.indicator_code AS debt_indicator,\n    international_debt.indicator_name,\n    AVG(international_debt.debt) AS average_debt\nFROM international_debt\nGROUP BY debt_indicator, indicator_name\nORDER BY average_debt DESC\nLIMIT 10;",
      "executedQueryParameters": []
     }
    }
   ]
  },
  {
   "source": [
    "--highest_principal_repayment\n",
    "SELECT \n",
    "    international_debt.country_name, \n",
    "    international_debt.indicator_name\n",
    "FROM international_debt\n",
    "WHERE debt = (SELECT \n",
    "                  MAX(debt)\n",
    "              FROM international_debt\n",
    "              WHERE indicator_code='DT.AMT.DLXF.CD');"
   ],
   "metadata": {
    "customType": "sql",
    "dataFrameVariableName": "highest_principal_repayment",
    "sqlCellMode": "dataFrame",
    "sqlSource": {
     "integrationId": "89e17161-a224-4a8a-846b-0adc0fe7a4b1",
     "integrationType": "postgresql",
     "type": "integration"
    },
    "executionCancelledAt": null,
    "executionTime": 766,
    "lastExecutedAt": 1713898945276,
    "lastScheduledRunId": null,
    "lastSuccessfullyExecutedCode": "--highest_principal_repayment\nSELECT \n    international_debt.country_name, \n    international_debt.indicator_name\nFROM international_debt\nWHERE debt = (SELECT \n                  MAX(debt)\n              FROM international_debt\n              WHERE indicator_code='DT.AMT.DLXF.CD');",
    "lastExecutedByKernel": "a5fbc1fb-8eef-45c6-86d4-b2bae145fca3",
    "outputsMetadata": {
     "0": {
      "height": 96,
      "type": "dataFrame"
     }
    }
   },
   "id": "1cdf2f88-7aa0-4702-8422-84098b742be4",
   "cell_type": "code",
   "execution_count": 64,
   "outputs": [
    {
     "output_type": "execute_result",
     "data": {
      "application/com.datacamp.data-table.v2+json": {
       "table": {
        "schema": {
         "fields": [
          {
           "name": "index",
           "type": "integer"
          },
          {
           "name": "country_name",
           "type": "string"
          },
          {
           "name": "indicator_name",
           "type": "string"
          }
         ],
         "primaryKey": [
          "index"
         ],
         "pandas_version": "1.4.0"
        },
        "data": {
         "index": [
          0
         ],
         "country_name": [
          "China"
         ],
         "indicator_name": [
          "Principal repayments on external debt, long-term (AMT, current US$)"
         ]
        }
       },
       "total_rows": 1,
       "truncation_type": null
      },
      "text/plain": "  country_name                                     indicator_name\n0        China  Principal repayments on external debt, long-te...",
      "text/html": "<div>\n<style scoped>\n    .dataframe tbody tr th:only-of-type {\n        vertical-align: middle;\n    }\n\n    .dataframe tbody tr th {\n        vertical-align: top;\n    }\n\n    .dataframe thead th {\n        text-align: right;\n    }\n</style>\n<table border=\"1\" class=\"dataframe\">\n  <thead>\n    <tr style=\"text-align: right;\">\n      <th></th>\n      <th>country_name</th>\n      <th>indicator_name</th>\n    </tr>\n  </thead>\n  <tbody>\n    <tr>\n      <th>0</th>\n      <td>China</td>\n      <td>Principal repayments on external debt, long-te...</td>\n    </tr>\n  </tbody>\n</table>\n</div>"
     },
     "metadata": {},
     "execution_count": 64,
     "@datacamp/metadata": {
      "executedQuery": "--highest_principal_repayment\nSELECT \n    international_debt.country_name, \n    international_debt.indicator_name\nFROM international_debt\nWHERE debt = (SELECT \n                  MAX(debt)\n              FROM international_debt\n              WHERE indicator_code='DT.AMT.DLXF.CD');",
      "executedQueryParameters": []
     }
    }
   ]
  }
 ],
 "metadata": {
  "colab": {
   "name": "Welcome to DataCamp Workspaces.ipynb",
   "provenance": []
  },
  "kernelspec": {
   "display_name": "Python 3 (ipykernel)",
   "language": "python",
   "name": "python3"
  },
  "language_info": {
   "codemirror_mode": {
    "name": "ipython",
    "version": 3
   },
   "file_extension": ".py",
   "mimetype": "text/x-python",
   "name": "python",
   "nbconvert_exporter": "python",
   "pygments_lexer": "ipython3",
   "version": "3.8.10"
  }
 },
 "nbformat": 4,
 "nbformat_minor": 5
}
