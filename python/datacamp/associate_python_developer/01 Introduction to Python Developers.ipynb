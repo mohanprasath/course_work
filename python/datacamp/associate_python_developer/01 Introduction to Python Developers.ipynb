{
 "cells": [
  {
   "cell_type": "markdown",
   "id": "32536a39-5cbb-455b-910e-7a68d7175b3b",
   "metadata": {},
   "source": [
    "# Introduction to Python Developers"
   ]
  },
  {
   "cell_type": "markdown",
   "id": "1403d7a2-0fc6-427a-afdd-0047026c362a",
   "metadata": {},
   "source": [
    "## 1 Introduction to Python"
   ]
  },
  {
   "cell_type": "code",
   "execution_count": null,
   "id": "0c1b3d89-a5a0-46c6-9c9b-44a509cba3e6",
   "metadata": {},
   "outputs": [],
   "source": [
    "# Use Cases\n",
    "''' Suitable for\n",
    "Task automation\n",
    "Web apps\n",
    "Artificial Intelligence\n",
    "    Web scraping\n",
    "    Content generation/summary\n",
    "    Image Recognition\n",
    "'''\n",
    "''' Not Suitable for\n",
    "Mobile apps\n",
    "Hardware Programming\n",
    "'''"
   ]
  },
  {
   "cell_type": "code",
   "execution_count": null,
   "id": "f869c404-a1e4-4ae9-b196-783605523785",
   "metadata": {},
   "outputs": [],
   "source": [
    "# slower than Java, C\n",
    "# but uses Natural Langauge for development"
   ]
  },
  {
   "cell_type": "code",
   "execution_count": 1,
   "id": "296c84ae-0d42-4dbe-9efc-f1e77834fdb1",
   "metadata": {},
   "outputs": [
    {
     "data": {
      "text/plain": [
       "96.0"
      ]
     },
     "execution_count": 1,
     "metadata": {},
     "output_type": "execute_result"
    }
   ],
   "source": [
    "# operators\n",
    "4 * 10 + 7 + 9+ 23 -4 + 27 / 3 + 3 ** 2 + 7 % 4"
   ]
  },
  {
   "cell_type": "markdown",
   "id": "bfabc7f0-9646-457e-92b5-a70d3e97a4df",
   "metadata": {},
   "source": [
    "### Variables"
   ]
  },
  {
   "cell_type": "code",
   "execution_count": null,
   "id": "ffe5fe90-8b1a-4795-a4c2-71fb1904051b",
   "metadata": {},
   "outputs": [],
   "source": [
    "'''\n",
    "are case sensitive\n",
    "starts with alphabets or _\n",
    "variable case conventions are good\n",
    "default case is usually snake case i.e. total_spend\n",
    "CamelCase i.e. TotalSpend is also acceptable\n",
    "'''"
   ]
  },
  {
   "cell_type": "code",
   "execution_count": 3,
   "id": "20da63df-f413-47d1-9335-5eac4da8f3fb",
   "metadata": {},
   "outputs": [
    {
     "data": {
      "text/plain": [
       "int"
      ]
     },
     "execution_count": 3,
     "metadata": {},
     "output_type": "execute_result"
    }
   ],
   "source": [
    "customer_age : int = 25 \n",
    "type(customer_age)"
   ]
  },
  {
   "cell_type": "code",
   "execution_count": 4,
   "id": "017f320a-ad4a-4b5a-864c-811efa4e6268",
   "metadata": {},
   "outputs": [
    {
     "data": {
      "text/plain": [
       "float"
      ]
     },
     "execution_count": 4,
     "metadata": {},
     "output_type": "execute_result"
    }
   ],
   "source": [
    "customer_average_spend : float = 55.28\n",
    "type(customer_average_spend)"
   ]
  },
  {
   "cell_type": "code",
   "execution_count": 5,
   "id": "0d4bb442-3eed-401c-9cc4-63fb4eaf9ea3",
   "metadata": {},
   "outputs": [
    {
     "data": {
      "text/plain": [
       "str"
      ]
     },
     "execution_count": 5,
     "metadata": {},
     "output_type": "execute_result"
    }
   ],
   "source": [
    "customer_name :str = 'George Boorman' # single quotes\n",
    "customer_name :str = \"George Boorman\" # double quotes\n",
    "type(customer_name)"
   ]
  },
  {
   "cell_type": "code",
   "execution_count": 7,
   "id": "94a3d680-b4ef-4584-9500-4a0bded8aa7b",
   "metadata": {},
   "outputs": [
    {
     "data": {
      "text/plain": [
       "bool"
      ]
     },
     "execution_count": 7,
     "metadata": {},
     "output_type": "execute_result"
    }
   ],
   "source": [
    "inactive_customer :bool = False # True or False is case sensitive keywords\n",
    "type(inactive_customer)"
   ]
  },
  {
   "cell_type": "markdown",
   "id": "73a3a8a4-ae0d-499a-b05c-2e516e40f5e7",
   "metadata": {},
   "source": [
    "## 2 Working with Data types"
   ]
  },
  {
   "cell_type": "markdown",
   "id": "a85b2f96-bb14-4cd8-b8fe-8defa457fa9f",
   "metadata": {},
   "source": [
    "### Working with Strings"
   ]
  },
  {
   "cell_type": "code",
   "execution_count": 1,
   "id": "9c426808",
   "metadata": {},
   "outputs": [],
   "source": [
    "# Double quotes are used for strings with single quotes\n",
    "customer_name = \"George's Boorman\""
   ]
  },
  {
   "cell_type": "code",
   "execution_count": 2,
   "id": "95c78845",
   "metadata": {},
   "outputs": [
    {
     "data": {
      "text/plain": [
       "\"GEORGE'S BOORMAN\""
      ]
     },
     "execution_count": 2,
     "metadata": {},
     "output_type": "execute_result"
    }
   ],
   "source": [
    "# methods on strings\n",
    "customer_name.upper()"
   ]
  },
  {
   "cell_type": "code",
   "execution_count": 4,
   "id": "90ce50d5",
   "metadata": {},
   "outputs": [
    {
     "name": "stdout",
     "output_type": "stream",
     "text": [
      "John's Boorman\n"
     ]
    }
   ],
   "source": [
    "# replacing parts of string\n",
    "customer_name = customer_name.replace('George', 'John')\n",
    "print(customer_name)"
   ]
  },
  {
   "cell_type": "code",
   "execution_count": 6,
   "id": "93ba5fd1",
   "metadata": {},
   "outputs": [
    {
     "name": "stdout",
     "output_type": "stream",
     "text": [
      "john's boorman\n",
      "JOHN'S BOORMAN\n",
      "John'S Boorman\n"
     ]
    }
   ],
   "source": [
    "# changing Case\n",
    "customer_name = customer_name.lower() # all lower case\n",
    "print(customer_name)\n",
    "customer_name = customer_name.upper() # all upper case\n",
    "print(customer_name)\n",
    "customer_name = customer_name.title() # first letter of each word is capitalized\n",
    "print(customer_name)"
   ]
  },
  {
   "cell_type": "code",
   "execution_count": 7,
   "id": "3ccddd4b",
   "metadata": {},
   "outputs": [
    {
     "name": "stdout",
     "output_type": "stream",
     "text": [
      "It was a bright cold day in April, and the clocks were striking thirteen.\n",
      "Mr. and Mrs. Dursley, of number four Privet Drive, were proud to say that they were perfectly normal, thank you very much.\n"
     ]
    }
   ],
   "source": [
    "# sentences and paragraphs\n",
    "nineteen_eightyfour = \"It was a bright cold day in April, and the clocks were striking thirteen.\"\n",
    "print(nineteen_eightyfour)\n",
    "# multiline strings\n",
    "harry_potter = \"\"\"Mr. and Mrs. Dursley, of number four Privet Drive, were proud to say that they were perfectly normal, thank you very much.\"\"\"\n",
    "print(harry_potter)"
   ]
  },
  {
   "cell_type": "code",
   "execution_count": 8,
   "id": "aa1bf0d0",
   "metadata": {},
   "outputs": [
    {
     "name": "stdout",
     "output_type": "stream",
     "text": [
      "George's Boorman\n",
      "George's Boorman\n",
      "George's Boorman\n",
      "John's Boorman\n",
      "GEORGE'S BOORMAN\n",
      "george's boorman\n",
      "George'S Boorman\n"
     ]
    }
   ],
   "source": [
    "# string cheat sheet\n",
    "# single quotes\n",
    "my_string = 'George\\'s Boorman'\n",
    "print(my_string)\n",
    "# double quotes\n",
    "my_string = \"George's Boorman\"\n",
    "print(my_string)\n",
    "# multiline strings\n",
    "my_string = \"\"\"George's Boorman\"\"\"\n",
    "print(my_string)\n",
    "# replace\n",
    "my_string = \"George's Boorman\"\n",
    "my_string = my_string.replace('George', 'John')\n",
    "print(my_string)\n",
    "# upper\n",
    "my_string = \"George's Boorman\"\n",
    "my_string = my_string.upper()\n",
    "print(my_string)\n",
    "# lower\n",
    "my_string = \"George's Boorman\"\n",
    "my_string = my_string.lower()\n",
    "print(my_string)\n",
    "# title\n",
    "my_string = \"george's boorman\"\n",
    "my_string = my_string.title()\n",
    "print(my_string)\n"
   ]
  },
  {
   "cell_type": "markdown",
   "id": "82c8cd20",
   "metadata": {},
   "source": [
    "### Lists"
   ]
  },
  {
   "cell_type": "code",
   "execution_count": 9,
   "id": "397e6e93",
   "metadata": {},
   "outputs": [],
   "source": [
    "# Variables of product prices\n",
    "price_one = 10\n",
    "price_two = 20\n",
    "price_three = 30\n",
    "price_four = 15\n",
    "price_five = 25\n",
    "price_six = 35"
   ]
  },
  {
   "cell_type": "code",
   "execution_count": 10,
   "id": "ee964420",
   "metadata": {},
   "outputs": [
    {
     "name": "stdout",
     "output_type": "stream",
     "text": [
      "[10, 20, 30, 15, 25, 35]\n",
      "[10, 20, 30, 15, 25, 35]\n"
     ]
    }
   ],
   "source": [
    "# List to the rescue\n",
    "product_prices = [10, 20, 30, 15, 25, 35]\n",
    "print(product_prices)\n",
    "prices = [price_one, price_two, price_three, price_four, price_five, price_six]\n",
    "print(prices)"
   ]
  },
  {
   "cell_type": "code",
   "execution_count": 11,
   "id": "9d827f06",
   "metadata": {},
   "outputs": [
    {
     "data": {
      "text/plain": [
       "list"
      ]
     },
     "execution_count": 11,
     "metadata": {},
     "output_type": "execute_result"
    }
   ],
   "source": [
    "# checking the data type\n",
    "type(product_prices)"
   ]
  },
  {
   "cell_type": "code",
   "execution_count": 12,
   "id": "ef4b5d16",
   "metadata": {},
   "outputs": [
    {
     "data": {
      "text/plain": [
       "str"
      ]
     },
     "execution_count": 12,
     "metadata": {},
     "output_type": "execute_result"
    }
   ],
   "source": [
    "type(\"Hello!\")"
   ]
  },
  {
   "cell_type": "code",
   "execution_count": 13,
   "id": "6c4a2e94",
   "metadata": {},
   "outputs": [
    {
     "data": {
      "text/plain": [
       "10"
      ]
     },
     "execution_count": 13,
     "metadata": {},
     "output_type": "execute_result"
    }
   ],
   "source": [
    "# Accessing elements of a list\n",
    "# Lists are zero-indexed\n",
    "# First element is at index 0\n",
    "# Lists are mutable\n",
    "# Lists are ordered\n",
    "# Lists can contain duplicates\n",
    "\n",
    "product_prices[0]"
   ]
  },
  {
   "cell_type": "code",
   "execution_count": 14,
   "id": "105ac08b",
   "metadata": {},
   "outputs": [
    {
     "data": {
      "text/plain": [
       "[10, 20, 30]"
      ]
     },
     "execution_count": 14,
     "metadata": {},
     "output_type": "execute_result"
    }
   ],
   "source": [
    "# Accessing multiple elements\n",
    "product_prices[0:3]"
   ]
  },
  {
   "cell_type": "code",
   "execution_count": 15,
   "id": "95ddd81a",
   "metadata": {},
   "outputs": [
    {
     "name": "stdout",
     "output_type": "stream",
     "text": [
      "[10, 20, 30, 15, 25, 35]\n",
      "10\n",
      "[10, 20, 30]\n",
      "[10, 20, 30, 15, 25, 35, 40]\n",
      "[10, 20, 30, 15, 25, 35]\n",
      "[5, 20, 30, 15, 25, 35]\n",
      "<class 'list'>\n",
      "6\n",
      "[5, 15, 20, 25, 30, 35]\n",
      "[35, 30, 25, 20, 15, 5]\n",
      "[35, 30, 25, 20, 15]\n",
      "[30, 25, 20, 15]\n",
      "[30, 20]\n",
      "[30, 25, 20, 15, 10, 20]\n",
      "[30, 25, 20, 15, 10, 20, 30, 25, 20, 15, 10, 20]\n",
      "True\n",
      "30\n",
      "25\n",
      "20\n",
      "15\n",
      "10\n",
      "20\n",
      "30\n",
      "25\n",
      "20\n",
      "15\n",
      "10\n",
      "20\n",
      "[35, 30, 25, 20, 15, 25, 35, 30, 25, 20, 15, 25]\n"
     ]
    }
   ],
   "source": [
    "# Lists Cheat Sheet\n",
    "# Creating a list\n",
    "product_prices = [10, 20, 30, 15, 25, 35]\n",
    "print(product_prices)\n",
    "# Accessing elements\n",
    "print(product_prices[0])\n",
    "print(product_prices[0:3])\n",
    "# Adding elements\n",
    "product_prices.append(40)\n",
    "print(product_prices)\n",
    "# Removing elements\n",
    "product_prices.remove(40)\n",
    "print(product_prices)\n",
    "# Modifying elements\n",
    "product_prices[0] = 5\n",
    "print(product_prices)\n",
    "# Checking the data type\n",
    "print(type(product_prices))\n",
    "# Length of the list\n",
    "print(len(product_prices))\n",
    "# Sorting the list\n",
    "product_prices.sort()\n",
    "print(product_prices)\n",
    "# Reversing the list\n",
    "product_prices.reverse()\n",
    "print(product_prices)\n",
    "# Removing the last element\n",
    "product_prices.pop()\n",
    "print(product_prices)\n",
    "# Removing the first element\n",
    "product_prices.pop(0)\n",
    "print(product_prices)\n",
    "# step in slicing\n",
    "print(product_prices[0:5:2])\n",
    "# List concatenation\n",
    "product_prices = product_prices + [10, 20]\n",
    "print(product_prices)\n",
    "# List repetition\n",
    "product_prices = product_prices * 2\n",
    "print(product_prices)\n",
    "# List membership\n",
    "print(10 in product_prices)\n",
    "# List iteration\n",
    "for price in product_prices:\n",
    "    print(price)\n",
    "# List comprehension\n",
    "product_prices = [price + 5 for price in product_prices]\n",
    "print(product_prices)\n"
   ]
  },
  {
   "cell_type": "markdown",
   "id": "54c32833",
   "metadata": {},
   "source": [
    "### Dictionaries"
   ]
  },
  {
   "cell_type": "code",
   "execution_count": 16,
   "id": "ce949a6d",
   "metadata": {},
   "outputs": [
    {
     "name": "stdout",
     "output_type": "stream",
     "text": [
      "AG32 10\n",
      "HT91 20\n",
      "PL65 30\n",
      "OS31 15\n",
      "KB07 25\n",
      "TR48 35\n"
     ]
    }
   ],
   "source": [
    "# dictionary is a collection of key-value pairs\n",
    "prices = [10, 20, 30, 15, 25, 35]\n",
    "# product ids\n",
    "product_ids = [\"AG32\", \"HT91\", \"PL65\", \"OS31\", \"KB07\", \"TR48\"]\n",
    "# dictionary\n",
    "product_prices = {\"AG32\": 10, \"HT91\": 20, \"PL65\": 30, \"OS31\": 15, \"KB07\": 25, \"TR48\": 35}\n",
    "for key, value in product_prices.items():\n",
    "    print(key, value)"
   ]
  },
  {
   "cell_type": "code",
   "execution_count": 17,
   "id": "cb515e2b",
   "metadata": {},
   "outputs": [
    {
     "name": "stdout",
     "output_type": "stream",
     "text": [
      "{'AG32': 10, 'HT91': 20, 'PL65': 30, 'OS31': 15, 'KB07': 25, 'TR48': 35}\n",
      "10\n",
      "{'AG32': 10, 'HT91': 20, 'PL65': 30, 'OS31': 15, 'KB07': 25, 'TR48': 35, 'JF29': 40}\n",
      "{'AG32': 10, 'HT91': 20, 'PL65': 30, 'OS31': 15, 'KB07': 25, 'TR48': 35}\n",
      "{'AG32': 5, 'HT91': 20, 'PL65': 30, 'OS31': 15, 'KB07': 25, 'TR48': 35}\n",
      "<class 'dict'>\n",
      "6\n",
      "dict_keys(['AG32', 'HT91', 'PL65', 'OS31', 'KB07', 'TR48'])\n",
      "dict_values([5, 20, 30, 15, 25, 35])\n",
      "dict_items([('AG32', 5), ('HT91', 20), ('PL65', 30), ('OS31', 15), ('KB07', 25), ('TR48', 35)])\n",
      "AG32 5\n",
      "HT91 20\n",
      "PL65 30\n",
      "OS31 15\n",
      "KB07 25\n",
      "TR48 35\n",
      "{'AG32': 10, 'HT91': 25, 'PL65': 35, 'OS31': 20, 'KB07': 30, 'TR48': 40}\n"
     ]
    }
   ],
   "source": [
    "# dictionary cheat sheet\n",
    "# Creating a dictionary\n",
    "product_prices = {\"AG32\": 10, \"HT91\": 20, \"PL65\": 30, \"OS31\": 15, \"KB07\": 25, \"TR48\": 35}\n",
    "print(product_prices)\n",
    "# Accessing elements\n",
    "print(product_prices[\"AG32\"])\n",
    "# Adding elements\n",
    "product_prices[\"JF29\"] = 40\n",
    "print(product_prices)\n",
    "# Removing elements\n",
    "del product_prices[\"JF29\"]\n",
    "print(product_prices)\n",
    "# Modifying elements\n",
    "product_prices[\"AG32\"] = 5\n",
    "print(product_prices)\n",
    "# Checking the data type\n",
    "print(type(product_prices))\n",
    "# Length of the dictionary\n",
    "print(len(product_prices))\n",
    "# Dictionary keys\n",
    "print(product_prices.keys())\n",
    "# Dictionary values\n",
    "print(product_prices.values())\n",
    "# Dictionary items\n",
    "print(product_prices.items())\n",
    "# Dictionary iteration\n",
    "for key, value in product_prices.items():\n",
    "    print(key, value)\n",
    "# Dictionary comprehension\n",
    "product_prices = {key: value + 5 for key, value in product_prices.items()}\n",
    "print(product_prices)\n"
   ]
  },
  {
   "cell_type": "markdown",
   "id": "b0218668",
   "metadata": {},
   "source": [
    "### Sets and Tuples"
   ]
  },
  {
   "cell_type": "markdown",
   "id": "47144a8f",
   "metadata": {},
   "source": [
    "#### Sets"
   ]
  },
  {
   "cell_type": "code",
   "execution_count": 19,
   "id": "1fb3f2f4",
   "metadata": {},
   "outputs": [
    {
     "name": "stdout",
     "output_type": "stream",
     "text": [
      "{'Sam Washington', 'Roger Thompson', 'John Smith', 'Alan Jones', 'Brandon Sharp'}\n"
     ]
    }
   ],
   "source": [
    "'''\n",
    "Sets are unordered\n",
    "Sets do not allow duplicates\n",
    "Sets can add and remove elements but not modify\n",
    "sets are unique\n",
    "Sets are quick to search\n",
    "'''\n",
    "attendes_set = {\"John Smith\", \"Alan Jones\", \"Roger Thompson\",\"John Smith\", \"Brandon Sharp\", \"Sam Washington\"}\n",
    "print(attendes_set)\n"
   ]
  },
  {
   "cell_type": "code",
   "execution_count": 20,
   "id": "6bf48890",
   "metadata": {},
   "outputs": [
    {
     "name": "stdout",
     "output_type": "stream",
     "text": [
      "{'Sam Washington', 'Brandon Sharp', 'Roger Thompson', 'John Smith', 'Alan Jones'}\n"
     ]
    }
   ],
   "source": [
    "# converting a set\n",
    "attendes_list = [\"John Smith\", \"Alan Jones\", \"Roger Thompson\",\"John Smith\", \"Brandon Sharp\", \"Sam Washington\"]\n",
    "attendes_set = set(attendes_list)\n",
    "print(attendes_set)"
   ]
  },
  {
   "cell_type": "code",
   "execution_count": 21,
   "id": "5a23bd5a",
   "metadata": {},
   "outputs": [
    {
     "name": "stdout",
     "output_type": "stream",
     "text": [
      "['Alan Jones', 'Brandon Sharp', 'John Smith', 'Roger Thompson', 'Sam Washington']\n"
     ]
    }
   ],
   "source": [
    "# limitations of a set\n",
    "''' \n",
    "Sets can't have duplicates\n",
    "'''\n",
    "# sorting a set\n",
    "attendes_set = sorted(attendes_set)\n",
    "print(attendes_set)"
   ]
  },
  {
   "cell_type": "markdown",
   "id": "3edc2275",
   "metadata": {},
   "source": [
    "#### Tuples"
   ]
  },
  {
   "cell_type": "code",
   "execution_count": 23,
   "id": "d6079e0b",
   "metadata": {},
   "outputs": [
    {
     "data": {
      "text/plain": [
       "' '"
      ]
     },
     "execution_count": 23,
     "metadata": {},
     "output_type": "execute_result"
    }
   ],
   "source": [
    "''' \n",
    "Tuples are ordered\n",
    "Tuples are immutable\n",
    "Tuples can contain duplicates\n",
    "Tuples are indexed\n",
    "'''"
   ]
  },
  {
   "cell_type": "code",
   "execution_count": 24,
   "id": "7a8ac07b",
   "metadata": {},
   "outputs": [
    {
     "name": "stdout",
     "output_type": "stream",
     "text": [
      "(10, 20, 30, 15, 25, 35)\n",
      "10\n",
      "(10, 20, 30)\n",
      "<class 'tuple'>\n",
      "6\n",
      "10\n",
      "20\n",
      "30\n",
      "15\n",
      "25\n",
      "35\n",
      "(10, 20, 30, 15, 25, 35, 10, 20)\n",
      "(10, 20, 30, 15, 25, 35, 10, 20, 10, 20, 30, 15, 25, 35, 10, 20)\n",
      "True\n",
      "(15, 25, 35, 20, 30, 40, 15, 25, 15, 25, 35, 20, 30, 40, 15, 25)\n"
     ]
    }
   ],
   "source": [
    "# Creating a tuple\n",
    "product_prices = (10, 20, 30, 15, 25, 35)\n",
    "print(product_prices)\n",
    "# Accessing elements\n",
    "print(product_prices[0])\n",
    "print(product_prices[0:3])\n",
    "# Checking the data type\n",
    "print(type(product_prices))\n",
    "# Length of the tuple\n",
    "print(len(product_prices))\n",
    "# Tuple iteration\n",
    "for price in product_prices:\n",
    "    print(price)\n",
    "# Tuple concatenation\n",
    "product_prices = product_prices + (10, 20)\n",
    "print(product_prices)\n",
    "# Tuple repetition\n",
    "product_prices = product_prices * 2\n",
    "print(product_prices)\n",
    "# Tuple membership\n",
    "print(10 in product_prices)\n",
    "# Tuple comprehension\n",
    "product_prices = tuple(price + 5 for price in product_prices)\n",
    "print(product_prices)\n"
   ]
  },
  {
   "cell_type": "markdown",
   "id": "1bb56ef7",
   "metadata": {},
   "source": [
    "### Data Structures Summary\n",
    "\n",
    "\n"
   ]
  },
  {
   "cell_type": "markdown",
   "id": "50c09ea6",
   "metadata": {},
   "source": [
    "| Data structure | Syntax | Immutable | Allow duplicate values | Ordered | Subset with [] |\n",
    "| -------- | ------- | -------- | ------- | -------- | ------- |\n",
    "| List | ```[1, 2, 3]``` | No | Yes | Yes | Yes - index |\n",
    "| Dictionary | ```{key:value}``` | No | Yes | Yes | Yes - key |\n",
    "| Set | ```{1, 2, 3}``` | No | No | No | No |\n",
    "| Tuples | ```(1, 2, 3)``` | Yes | Yes | Yes | Yes - index |"
   ]
  },
  {
   "cell_type": "markdown",
   "id": "393674fe",
   "metadata": {},
   "source": [
    "## 3. Conditional Statements and operators"
   ]
  },
  {
   "cell_type": "code",
   "execution_count": 26,
   "id": "cabf7dc4",
   "metadata": {},
   "outputs": [
    {
     "name": "stdout",
     "output_type": "stream",
     "text": [
      "True\n",
      "False\n"
     ]
    }
   ],
   "source": [
    "# Booleans\n",
    "the_truth = True\n",
    "the_lie = False\n",
    "print(the_truth)\n",
    "print(the_lie)"
   ]
  },
  {
   "cell_type": "code",
   "execution_count": 27,
   "id": "4952c520",
   "metadata": {},
   "outputs": [
    {
     "name": "stdout",
     "output_type": "stream",
     "text": [
      "15\n",
      "5\n",
      "50\n",
      "2.0\n",
      "2\n",
      "0\n",
      "100000\n",
      "False\n",
      "True\n",
      "True\n",
      "False\n",
      "True\n",
      "False\n",
      "False\n",
      "True\n",
      "False\n",
      "True\n",
      "False\n",
      "False\n",
      "True\n"
     ]
    },
    {
     "name": "stderr",
     "output_type": "stream",
     "text": [
      "<>:44: SyntaxWarning: \"is\" with 'int' literal. Did you mean \"==\"?\n",
      "<>:46: SyntaxWarning: \"is not\" with 'int' literal. Did you mean \"!=\"?\n",
      "<>:44: SyntaxWarning: \"is\" with 'int' literal. Did you mean \"==\"?\n",
      "<>:46: SyntaxWarning: \"is not\" with 'int' literal. Did you mean \"!=\"?\n",
      "/var/folders/vb/cqs_l67s0g91rr33sz6p92cw0000gn/T/ipykernel_6778/1886031256.py:44: SyntaxWarning: \"is\" with 'int' literal. Did you mean \"==\"?\n",
      "  print(10 is 5)\n",
      "/var/folders/vb/cqs_l67s0g91rr33sz6p92cw0000gn/T/ipykernel_6778/1886031256.py:46: SyntaxWarning: \"is not\" with 'int' literal. Did you mean \"!=\"?\n",
      "  print(10 is not 5)\n"
     ]
    }
   ],
   "source": [
    "# Operators \n",
    "# Arithmetic Operators\n",
    "# Addition\n",
    "print(10 + 5)\n",
    "# Subtraction\n",
    "print(10 - 5)\n",
    "# Multiplication\n",
    "print(10 * 5)\n",
    "# Division\n",
    "print(10 / 5)\n",
    "# Floor Division\n",
    "print(10 // 5)\n",
    "# Modulus\n",
    "print(10 % 5)\n",
    "# Exponentiation\n",
    "print(10 ** 5)\n",
    "# Comparison Operators\n",
    "# Equal\n",
    "print(10 == 5)\n",
    "# Not Equal\n",
    "print(10 != 5)\n",
    "# Greater Than\n",
    "print(10 > 5)\n",
    "# Less Than\n",
    "print(10 < 5)\n",
    "# Greater Than or Equal\n",
    "print(10 >= 5)\n",
    "# Less Than or Equal\n",
    "print(10 <= 5)\n",
    "# Logical Operators\n",
    "# AND\n",
    "print(True and False)\n",
    "# OR\n",
    "print(True or False)\n",
    "# NOT\n",
    "print(not True)\n",
    "# Membership Operators\n",
    "# IN\n",
    "print(10 in [5, 10, 15])\n",
    "# NOT IN\n",
    "print(10 not in [5, 10, 15])\n",
    "# Identity Operators\n",
    "# IS\n",
    "print(10 is 5)\n",
    "# IS NOT\n",
    "print(10 is not 5)\n"
   ]
  },
  {
   "cell_type": "code",
   "execution_count": 28,
   "id": "8db5d067",
   "metadata": {},
   "outputs": [
    {
     "name": "stdout",
     "output_type": "stream",
     "text": [
      "10 is greater than 5\n",
      "10 is greater than 5\n",
      "10 is greater than 5\n"
     ]
    }
   ],
   "source": [
    "# conditional statements\n",
    "# if\n",
    "if 10 > 5:\n",
    "    print(\"10 is greater than 5\")\n",
    "# if else\n",
    "if 10 < 5:\n",
    "    print(\"10 is less than 5\")\n",
    "else:\n",
    "    print(\"10 is greater than 5\")\n",
    "# if elif else\n",
    "if 10 < 5:\n",
    "    print(\"10 is less than 5\")\n",
    "elif 10 == 5:\n",
    "    print(\"10 is equal to 5\")\n",
    "else:\n",
    "    print(\"10 is greater than 5\")"
   ]
  },
  {
   "cell_type": "code",
   "execution_count": 29,
   "id": "585ab9f1",
   "metadata": {},
   "outputs": [
    {
     "ename": "IndentationError",
     "evalue": "expected an indented block after 'if' statement on line 7 (198215461.py, line 8)",
     "output_type": "error",
     "traceback": [
      "\u001b[0;36m  Cell \u001b[0;32mIn[29], line 8\u001b[0;36m\u001b[0m\n\u001b[0;31m    print(\"10 is greater than 5\")\u001b[0m\n\u001b[0m    ^\u001b[0m\n\u001b[0;31mIndentationError\u001b[0m\u001b[0;31m:\u001b[0m expected an indented block after 'if' statement on line 7\n"
     ]
    }
   ],
   "source": [
    "# Indentation is important\n",
    "# Indentation is done using tabs or spaces\n",
    "# Indentation is consistent\n",
    "# Indentation is usually 4 spaces\n",
    "# Indentation is used to define a block of code\n",
    "try:\n",
    "    if 10 > 5:\n",
    "    print(\"10 is greater than 5\")\n",
    "except:\n",
    "    print(\"Indentation Error\")\n"
   ]
  },
  {
   "cell_type": "markdown",
   "id": "b1a30671",
   "metadata": {},
   "source": [
    "### For Loops"
   ]
  },
  {
   "cell_type": "code",
   "execution_count": 31,
   "id": "aa701cb6",
   "metadata": {},
   "outputs": [
    {
     "data": {
      "text/plain": [
       "True"
      ]
     },
     "execution_count": 31,
     "metadata": {},
     "output_type": "execute_result"
    }
   ],
   "source": [
    "# Individual comparisons\n",
    "prices = [10, 20, 30, 15, 25, 35]\n",
    "prices[0] > 9.99"
   ]
  },
  {
   "cell_type": "code",
   "execution_count": 32,
   "id": "68c73caf",
   "metadata": {},
   "outputs": [
    {
     "name": "stdout",
     "output_type": "stream",
     "text": [
      "10\n",
      "20\n",
      "30\n",
      "15\n",
      "25\n",
      "35\n"
     ]
    }
   ],
   "source": [
    "# For loop syntax\n",
    "# for item in iterable:\n",
    "#     code block\n",
    "for price in prices:\n",
    "    print(price)\n"
   ]
  },
  {
   "cell_type": "code",
   "execution_count": 33,
   "id": "2a1edba7",
   "metadata": {},
   "outputs": [
    {
     "name": "stdout",
     "output_type": "stream",
     "text": [
      "10\n",
      "20\n",
      "30\n",
      "15\n",
      "25\n",
      "35\n"
     ]
    }
   ],
   "source": [
    "# printing individual elements with condition\n",
    "for price in prices:\n",
    "    if price > 9.99:\n",
    "        print(price)"
   ]
  },
  {
   "cell_type": "code",
   "execution_count": 34,
   "id": "1878dfe5",
   "metadata": {},
   "outputs": [
    {
     "name": "stdout",
     "output_type": "stream",
     "text": [
      "g\n",
      "e\n",
      "o\n",
      "r\n",
      "g\n",
      "e\n",
      "_\n",
      "d\n",
      "c\n"
     ]
    }
   ],
   "source": [
    "# Looping through strings\n",
    "username = 'george_dc'\n",
    "for letter in username:\n",
    "    print(letter)"
   ]
  },
  {
   "cell_type": "code",
   "execution_count": 35,
   "id": "fa0c0700",
   "metadata": {},
   "outputs": [
    {
     "name": "stdout",
     "output_type": "stream",
     "text": [
      "AG32 10\n",
      "HT91 20\n",
      "PL65 30\n",
      "OS31 15\n",
      "KB07 25\n",
      "TR48 35\n"
     ]
    }
   ],
   "source": [
    "# Looping through dictionaries\n",
    "product_prices = {\"AG32\": 10, \"HT91\": 20, \"PL65\": 30, \"OS31\": 15, \"KB07\": 25, \"TR48\": 35}\n",
    "for key, value in product_prices.items():\n",
    "    print(key, value)\n"
   ]
  },
  {
   "cell_type": "code",
   "execution_count": 36,
   "id": "f2271ade",
   "metadata": {},
   "outputs": [
    {
     "name": "stdout",
     "output_type": "stream",
     "text": [
      "0\n",
      "1\n",
      "2\n",
      "3\n",
      "4\n",
      "5\n",
      "6\n",
      "7\n",
      "8\n",
      "9\n"
     ]
    }
   ],
   "source": [
    "# Range\n",
    "for number in range(10):\n",
    "    print(number)"
   ]
  },
  {
   "cell_type": "code",
   "execution_count": 37,
   "id": "2cfe7170",
   "metadata": {},
   "outputs": [
    {
     "name": "stdout",
     "output_type": "stream",
     "text": [
      "10\n"
     ]
    }
   ],
   "source": [
    "# Building a counter\n",
    "counter = 0\n",
    "for number in range(10):\n",
    "    counter = counter + 1\n",
    "print(counter)"
   ]
  },
  {
   "cell_type": "markdown",
   "id": "16ac31bf",
   "metadata": {},
   "source": [
    "### While Loops"
   ]
  },
  {
   "cell_type": "code",
   "execution_count": 40,
   "id": "436a8403",
   "metadata": {},
   "outputs": [
    {
     "name": "stdout",
     "output_type": "stream",
     "text": [
      "10\n",
      "9\n",
      "8\n",
      "7\n",
      "6\n",
      "5\n",
      "4\n",
      "3\n",
      "2\n",
      "1\n",
      "Out of stock\n"
     ]
    }
   ],
   "source": [
    "# While loop syntax\n",
    "# while condition:\n",
    "#     code block\n",
    "stock = 10\n",
    "while stock > 0:\n",
    "    print(stock)\n",
    "    stock = stock - 1\n",
    "print(\"Out of stock\")\n",
    "# be careful with infinite loops\n",
    "# while True:\n",
    "#     print(\"Infinite Loop\")"
   ]
  },
  {
   "cell_type": "code",
   "execution_count": 41,
   "id": "44c17d6b",
   "metadata": {},
   "outputs": [
    {
     "name": "stdout",
     "output_type": "stream",
     "text": [
      "10\n",
      "9\n",
      "8\n",
      "7\n",
      "6\n",
      "Out of stock\n"
     ]
    }
   ],
   "source": [
    "# Breaking a loop\n",
    "stock = 10\n",
    "while stock > 0:\n",
    "    print(stock)\n",
    "    stock = stock - 1\n",
    "    if stock == 5:\n",
    "        break\n",
    "print(\"Out of stock\")"
   ]
  },
  {
   "cell_type": "code",
   "execution_count": 42,
   "id": "b7f4a10d",
   "metadata": {},
   "outputs": [
    {
     "name": "stdout",
     "output_type": "stream",
     "text": [
      "9\n",
      "8\n",
      "7\n",
      "6\n",
      "4\n",
      "3\n",
      "2\n",
      "1\n",
      "0\n"
     ]
    }
   ],
   "source": [
    "# Skipping an iteration\n",
    "stock = 10\n",
    "while stock > 0:\n",
    "    stock = stock - 1\n",
    "    if stock == 5:\n",
    "        continue\n",
    "    print(stock)"
   ]
  },
  {
   "cell_type": "code",
   "execution_count": 43,
   "id": "6157c1c5",
   "metadata": {},
   "outputs": [],
   "source": [
    "### Building a workflow\n",
    "# Loops through data structures\n",
    "    # for, while\n",
    "# Evaluates conditions\n",
    "    # if, elif, else, >, <, ==, !=, >=, <=\n",
    "# Update variables\n",
    "    # +=\n",
    "# Return values/outputs\n",
    "    # print()"
   ]
  },
  {
   "cell_type": "code",
   "execution_count": 44,
   "id": "2984900d",
   "metadata": {},
   "outputs": [
    {
     "name": "stdout",
     "output_type": "stream",
     "text": [
      "True\n",
      "False\n"
     ]
    }
   ],
   "source": [
    "# in keyword\n",
    "products_dict = {\"AG32\": 10, \"HT91\": 20, \"PL65\": 30, \"OS31\": 15, \"KB07\": 25, \"TR48\": 35}\n",
    "print(\"AG32\" in products_dict)\n",
    "print(\"JF29\" in products_dict)\n"
   ]
  },
  {
   "cell_type": "code",
   "execution_count": 45,
   "id": "9443b11e",
   "metadata": {},
   "outputs": [
    {
     "name": "stdout",
     "output_type": "stream",
     "text": [
      "False\n",
      "True\n"
     ]
    }
   ],
   "source": [
    "# not in keyword\n",
    "products_dict = {\"AG32\": 10, \"HT91\": 20, \"PL65\": 30, \"OS31\": 15, \"KB07\": 25, \"TR48\": 35}\n",
    "print(\"AG32\" not in products_dict)\n",
    "print(\"JF29\" not in products_dict)\n"
   ]
  },
  {
   "cell_type": "code",
   "execution_count": 46,
   "id": "597148a0",
   "metadata": {},
   "outputs": [
    {
     "name": "stdout",
     "output_type": "stream",
     "text": [
      "True\n",
      "False\n"
     ]
    }
   ],
   "source": [
    "# and keyword\n",
    "print(10 > 5 and 10 < 20)\n",
    "print(10 > 5 and 10 > 20)"
   ]
  },
  {
   "cell_type": "code",
   "execution_count": 47,
   "id": "ec752eef",
   "metadata": {},
   "outputs": [
    {
     "name": "stdout",
     "output_type": "stream",
     "text": [
      "True\n",
      "False\n"
     ]
    }
   ],
   "source": [
    "# or keyword\n",
    "print(10 > 5 or 10 < 20)\n",
    "print(10 < 5 or 10 > 20)"
   ]
  },
  {
   "cell_type": "code",
   "execution_count": 48,
   "id": "7cb2b12f",
   "metadata": {},
   "outputs": [
    {
     "name": "stdout",
     "output_type": "stream",
     "text": [
      "3.3333333333333335\n"
     ]
    }
   ],
   "source": [
    "# adding / subtracting / multiplying / dividing\n",
    "total = 0\n",
    "total = total + 10\n",
    "total = total - 5\n",
    "total = total * 2\n",
    "total = total / 3\n",
    "print(total)"
   ]
  },
  {
   "cell_type": "code",
   "execution_count": 49,
   "id": "bdd7e5b0",
   "metadata": {},
   "outputs": [
    {
     "name": "stdout",
     "output_type": "stream",
     "text": [
      "[10, 20, 30, 15, 25, 35, 40]\n"
     ]
    }
   ],
   "source": [
    "# Appending\n",
    "product_prices = [10, 20, 30, 15, 25, 35]\n",
    "product_prices.append(40)\n",
    "print(product_prices)"
   ]
  },
  {
   "cell_type": "code",
   "execution_count": null,
   "id": "b876bdbe",
   "metadata": {},
   "outputs": [],
   "source": []
  }
 ],
 "metadata": {
  "kernelspec": {
   "display_name": "Python 3 (ipykernel)",
   "language": "python",
   "name": "python3"
  },
  "language_info": {
   "codemirror_mode": {
    "name": "ipython",
    "version": 3
   },
   "file_extension": ".py",
   "mimetype": "text/x-python",
   "name": "python",
   "nbconvert_exporter": "python",
   "pygments_lexer": "ipython3",
   "version": "3.12.5"
  }
 },
 "nbformat": 4,
 "nbformat_minor": 5
}
