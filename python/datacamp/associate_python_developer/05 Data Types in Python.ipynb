{
 "cells": [
  {
   "cell_type": "markdown",
   "id": "c94a9439-17a2-44fe-839c-826463de4853",
   "metadata": {},
   "source": [
    "# Data Types in Python"
   ]
  },
  {
   "cell_type": "markdown",
   "id": "bc17ca0d-31f6-4b93-b637-8c6cc05caf5b",
   "metadata": {},
   "source": [
    "## 1 Fundamental Sequence Data Types"
   ]
  },
  {
   "cell_type": "markdown",
   "id": "79191fcf-9ff1-4362-a34c-0fc6bcc303eb",
   "metadata": {},
   "source": [
    "### Introduction and Lists"
   ]
  },
  {
   "cell_type": "code",
   "execution_count": null,
   "id": "dd8677d5",
   "metadata": {},
   "outputs": [],
   "source": [
    "''' \n",
    "Lists are mutable, and their elements are usually homogeneous and are accessed by iterating over the list.\n",
    "'''"
   ]
  },
  {
   "cell_type": "code",
   "execution_count": 1,
   "id": "10d52860-4b17-4f6d-9993-320e8ddbc760",
   "metadata": {},
   "outputs": [
    {
     "name": "stdout",
     "output_type": "stream",
     "text": [
      "['chocolate chip', 'peanut butter', 'sugar']\n",
      "chocolate chip\n",
      "['chocolate chip', 'peanut butter', 'sugar', 'gingersnap', 'shortbread']\n",
      "['chocolate chip', 'peanut butter', 'sugar', 'gingersnap', 'shortbread', 'biscotti']\n",
      "['chocolate chip', 'peanut butter', 'sugar', 'gingersnap', 'shortbread', 'biscotti', 'cinnamon', 'chocolate']\n",
      "['biscotti', 'chocolate chip', 'peanut butter', 'sugar', 'gingersnap', 'shortbread', 'biscotti', 'cinnamon', 'chocolate']\n",
      "['chocolate chip', 'peanut butter', 'sugar', 'gingersnap', 'shortbread', 'biscotti', 'cinnamon', 'chocolate']\n",
      "['chocolate chip', 'peanut butter', 'sugar', 'gingersnap', 'shortbread', 'biscotti', 'cinnamon']\n",
      "2\n",
      "chocolate chip\n",
      "peanut butter\n",
      "sugar\n",
      "gingersnap\n",
      "shortbread\n",
      "biscotti\n",
      "cinnamon\n",
      "['biscotti', 'chocolate chip', 'cinnamon', 'gingersnap', 'peanut butter', 'shortbread', 'sugar']\n"
     ]
    }
   ],
   "source": [
    "# lists\n",
    "cookies = ['chocolate chip', 'peanut butter', 'sugar']\n",
    "print(cookies)\n",
    "print(cookies[0])\n",
    "\n",
    "# combine lists\n",
    "cookies = cookies + ['gingersnap', 'shortbread']\n",
    "print(cookies)\n",
    "\n",
    "# append to list\n",
    "cookies.append('biscotti')\n",
    "print(cookies)\n",
    "\n",
    "# using extend\n",
    "more_cookies = ['cinnamon', 'chocolate']\n",
    "cookies.extend(more_cookies)\n",
    "print(cookies)\n",
    "\n",
    "# insert into list\n",
    "cookies.insert(0, 'biscotti')\n",
    "print(cookies)\n",
    "\n",
    "# remove from list\n",
    "cookies.remove('biscotti')\n",
    "print(cookies)\n",
    "\n",
    "# pop from list\n",
    "cookies.pop()\n",
    "print(cookies)\n",
    "\n",
    "# finding elements using index\n",
    "print(cookies.index('sugar'))\n",
    "\n",
    "# iterate over list\n",
    "for cookie in cookies:\n",
    "    print(cookie)\n",
    "\n",
    "# sorting list\n",
    "cookies.sort()\n",
    "print(cookies)\n"
   ]
  },
  {
   "cell_type": "markdown",
   "id": "c31f0ae3",
   "metadata": {},
   "source": [
    "### Meet the tuples"
   ]
  },
  {
   "cell_type": "code",
   "execution_count": 2,
   "id": "61435839",
   "metadata": {},
   "outputs": [
    {
     "name": "stdout",
     "output_type": "stream",
     "text": [
      "('chocolate chip', 'peanut butter', 'sugar')\n",
      "[('chocolate chip', 'hobnob'), ('peanut butter', 'digestive'), ('sugar', 'rich tea')]\n",
      "0 ('chocolate chip', 'hobnob')\n",
      "1 ('peanut butter', 'digestive')\n",
      "2 ('sugar', 'rich tea')\n"
     ]
    }
   ],
   "source": [
    "''' Tuples are immutable, and usually contain a heterogeneous sequence of elements that are accessed via unpacking or indexing. '''\n",
    "# tuples\n",
    "cookies = ('chocolate chip', 'peanut butter', 'sugar')\n",
    "print(cookies)\n",
    "\n",
    "# unpacking\n",
    "cookie1, cookie2, cookie3 = cookies\n",
    "\n",
    "# zip creates a list of tuples by zipping two lists\n",
    "us_cookies = ['chocolate chip', 'peanut butter', 'sugar']\n",
    "uk_cookies = ['hobnob', 'digestive', 'rich tea']\n",
    "cookies = list(zip(us_cookies, uk_cookies))\n",
    "print(cookies)\n",
    "\n",
    "# enumerate provides the index and value of an iterable as a tuple\n",
    "for index, cookie in enumerate(cookies):\n",
    "    print(index, cookie)\n",
    "\n",
    "# tuples are made using (), zip(), or enumerate()"
   ]
  },
  {
   "cell_type": "markdown",
   "id": "4c244fa2",
   "metadata": {},
   "source": [
    "### Strings"
   ]
  },
  {
   "cell_type": "code",
   "execution_count": 4,
   "id": "16af9e8f",
   "metadata": {},
   "outputs": [
    {
     "name": "stdout",
     "output_type": "stream",
     "text": [
      "The chocolate chip cookie costs 2 dollars.\n",
      "The chocolate chip cookie costs 2 dollars.\n",
      "The chocolate chip cookie costs 2 dollars.\n"
     ]
    }
   ],
   "source": [
    "# Creating formatted strings\n",
    "cookie_name = 'chocolate chip'\n",
    "cookie_price = 2\n",
    "\n",
    "# old way\n",
    "print('The %s cookie costs %d dollars.' % (cookie_name, cookie_price))\n",
    "\n",
    "# new way - python 3.6+ \n",
    "print('The {} cookie costs {} dollars.'.format(cookie_name, cookie_price))\n",
    "\n",
    "# f-string - python 3.6+ but looks cleaner and better\n",
    "print(f'The {cookie_name} cookie costs {cookie_price} dollars.')"
   ]
  },
  {
   "cell_type": "code",
   "execution_count": 9,
   "id": "9b151018",
   "metadata": {},
   "outputs": [
    {
     "name": "stdout",
     "output_type": "stream",
     "text": [
      "chocolate chip, peanut butter, sugar\n",
      "['james', 'john']\n"
     ]
    },
    {
     "data": {
      "text/plain": [
       "(True, False)"
      ]
     },
     "execution_count": 9,
     "metadata": {},
     "output_type": "execute_result"
    }
   ],
   "source": [
    "# join strings\n",
    "cookies = ['chocolate chip', 'peanut butter', 'sugar']\n",
    "print(', '.join(cookies))\n",
    "\n",
    "# matching parts of a string\n",
    "boy_names = ['james', 'john', 'robert']\n",
    "print([name for name in boy_names if name.startswith('j')])\n",
    "\n",
    "# Searching for things in strings\n",
    "'long' in 'Life is a long journey', 'long'  in 'Life is a Long journey'"
   ]
  },
  {
   "cell_type": "code",
   "execution_count": 7,
   "id": "d6e1622e",
   "metadata": {},
   "outputs": [
    {
     "data": {
      "text/plain": [
       "True"
      ]
     },
     "execution_count": 7,
     "metadata": {},
     "output_type": "execute_result"
    }
   ],
   "source": [
    "# an approach to being case insensitive\n",
    "'long' in 'Life is a long journey'.lower()"
   ]
  },
  {
   "cell_type": "markdown",
   "id": "1c5e5533-8882-4f99-95e6-4791caaef9a7",
   "metadata": {},
   "source": [
    "## 2 Dictionaries - The Root of Python"
   ]
  },
  {
   "cell_type": "code",
   "execution_count": 11,
   "id": "408c8ca1-8f6e-4ab7-a9fd-fd0a25df9ad3",
   "metadata": {},
   "outputs": [
    {
     "name": "stdout",
     "output_type": "stream",
     "text": [
      "{'Gagosian': '10007', 'David Zwirner': '10011'}\n",
      "No gallery found\n"
     ]
    }
   ],
   "source": [
    "# Dictionaries are mutable, unordered collections of key-value pairs. {} or dict() can be used to create dictionaries.\n",
    "\n",
    "art_galleries = {}\n",
    "for name, zip_code in [('Gagosian', '10007'), ('David Zwirner', '10011')]:\n",
    "    art_galleries[name] = zip_code\n",
    "print(art_galleries)\n",
    "\n",
    "# safely finding the dictionary key\n",
    "print(art_galleries.get('Pace', 'No gallery found'))"
   ]
  },
  {
   "cell_type": "markdown",
   "id": "8d268cd3",
   "metadata": {},
   "source": [
    "### Altering Dictonaries"
   ]
  },
  {
   "cell_type": "code",
   "execution_count": 13,
   "id": "efc3ccf1",
   "metadata": {},
   "outputs": [
    {
     "name": "stdout",
     "output_type": "stream",
     "text": [
      "{'Gagosian': '10007', 'David Zwirner': '10011', 'Pace': '10025'}\n",
      "{'Gagosian': '10007', 'David Zwirner': '10011'}\n",
      "{'Gagosian': '10007'}\n"
     ]
    }
   ],
   "source": [
    "# update dictionary\n",
    "art_galleries.update({'Pace': '10025'})\n",
    "print(art_galleries)\n",
    "\n",
    "# pop from dictionary\n",
    "art_galleries.pop('Pace')\n",
    "print(art_galleries)\n",
    "\n",
    "# delete from dictionary\n",
    "del art_galleries['David Zwirner']\n",
    "print(art_galleries)"
   ]
  },
  {
   "cell_type": "markdown",
   "id": "b9972e38",
   "metadata": {},
   "source": [
    "### Pythonically using dictionaries"
   ]
  },
  {
   "cell_type": "code",
   "execution_count": null,
   "id": "4499e8a9",
   "metadata": {},
   "outputs": [],
   "source": [
    "# Working with dictionaries more pythonically\n",
    "art_galleries = {'Gagosian': '10007', 'David Zwirner': '10011'}\n",
    "for name, zip_code in art_galleries.items():\n",
    "    print(name, zip_code)\n",
    "\n",
    "# in operator\n",
    "print('Gagosian' in art_galleries)"
   ]
  },
  {
   "cell_type": "markdown",
   "id": "3cac7d34",
   "metadata": {},
   "source": [
    "### Mixed data types in dictionaries"
   ]
  },
  {
   "cell_type": "code",
   "execution_count": 14,
   "id": "0d76f09b-cd0c-4342-b6fa-53ffa24628bf",
   "metadata": {},
   "outputs": [
    {
     "name": "stdout",
     "output_type": "stream",
     "text": [
      "Tribeca\n"
     ]
    }
   ],
   "source": [
    "# Working with nested dictionaries\n",
    "art_galleries = {'Gagosian': {'zip': '10007', 'neighborhood': 'Tribeca'}, 'David Zwirner': {'zip': '10011', 'neighborhood': 'Chelsea'}}\n",
    "print(art_galleries['Gagosian']['neighborhood'])"
   ]
  },
  {
   "cell_type": "markdown",
   "id": "283044c0-2606-43b0-925e-12f516557349",
   "metadata": {},
   "source": [
    "## 3 Numeric Data Types, Booleans, and Sets"
   ]
  },
  {
   "cell_type": "markdown",
   "id": "a8b52ac3",
   "metadata": {},
   "source": [
    "### Built-in Numeric Types"
   ]
  },
  {
   "cell_type": "code",
   "execution_count": 21,
   "id": "ae5dcb37-8327-409e-b0be-2dd948a02d9f",
   "metadata": {},
   "outputs": [
    {
     "data": {
      "text/plain": [
       "(123456789123456789, 1.2345678912345678e+17)"
      ]
     },
     "execution_count": 21,
     "metadata": {},
     "output_type": "execute_result"
    }
   ],
   "source": [
    "# Integer - whole numbers and Large numbers\n",
    "# Float - decimal numbers and scientific notation\n",
    "int(123456789123456789), float(123456789123456789)"
   ]
  },
  {
   "cell_type": "code",
   "execution_count": 24,
   "id": "e1b3aaaf",
   "metadata": {},
   "outputs": [
    {
     "name": "stdout",
     "output_type": "stream",
     "text": [
      "1e-06\n",
      "0.000001\n",
      "0.0000001\n"
     ]
    }
   ],
   "source": [
    "# Decimal - floating point arithmetic, Excat decimal representation, Currency calculations\n",
    "from decimal import Decimal\n",
    "Decimal('10.1') + Decimal('0.2')\n",
    "\n",
    "# printing Floats\n",
    "print(0.000001)\n",
    "print(f\"{0.0000011:f}\")\n",
    "print(f\"{0.0000001:.7f}\")"
   ]
  },
  {
   "cell_type": "code",
   "execution_count": 25,
   "id": "c01a7e69",
   "metadata": {},
   "outputs": [
    {
     "name": "stdout",
     "output_type": "stream",
     "text": [
      "2.5 2\n"
     ]
    }
   ],
   "source": [
    "# Python division types\n",
    "print(5/2, 5//2) # float division"
   ]
  },
  {
   "cell_type": "code",
   "execution_count": 15,
   "id": "b3f0d473",
   "metadata": {},
   "outputs": [
    {
     "name": "stdout",
     "output_type": "stream",
     "text": [
      "0.0001\n",
      "1e-05\n",
      "1e-07\n",
      "0.000010\n",
      "0.000000\n",
      "0.0000001\n"
     ]
    }
   ],
   "source": [
    "float1 = 0.0001\n",
    "float2 = 1e-05\n",
    "float3 = 1e-07\n",
    "\n",
    "# Print floats 1, 2, and 3\n",
    "print(float1)\n",
    "print(float2)\n",
    "print(float3)\n",
    "\n",
    "# Print floats 2 and 3 using the f string formatter\n",
    "print(f\"{float2:f}\")\n",
    "print(f\"{float3:f}\")\n",
    "\n",
    "# Print float 3 with a 7 f string precision\n",
    "print(f\"{float3:.7f}\")"
   ]
  },
  {
   "cell_type": "code",
   "execution_count": 16,
   "id": "8519028f",
   "metadata": {},
   "outputs": [
    {
     "name": "stdout",
     "output_type": "stream",
     "text": [
      "2.0\n",
      "0.5\n",
      "2\n",
      "0\n",
      "<class 'float'>\n",
      "<class 'int'>\n"
     ]
    }
   ],
   "source": [
    "# Print the result of 2/1 and 1/2\n",
    "print(2/1)\n",
    "print(1/2)\n",
    "\n",
    "# Print the floored division result of 2//1 and 1//2\n",
    "import math\n",
    "print(math.floor(2//1))\n",
    "print(math.floor(1//2))\n",
    "\n",
    "# Print the type of 2/1 and 2//1\n",
    "print(type(2/1))\n",
    "print(type(2//1))"
   ]
  },
  {
   "cell_type": "markdown",
   "id": "14fdd19c",
   "metadata": {},
   "source": [
    "### Booleans - the logical data type"
   ]
  },
  {
   "cell_type": "code",
   "execution_count": 26,
   "id": "ed6dbfd8",
   "metadata": {},
   "outputs": [
    {
     "name": "stdout",
     "output_type": "stream",
     "text": [
      "Get more cookies!\n"
     ]
    }
   ],
   "source": [
    "# Booleans as a data type\n",
    "out_of_cookies = True\n",
    "if out_of_cookies:\n",
    "    print('Get more cookies!')"
   ]
  },
  {
   "cell_type": "code",
   "execution_count": 19,
   "id": "a5abef4e",
   "metadata": {},
   "outputs": [
    {
     "name": "stdout",
     "output_type": "stream",
     "text": [
      "Get more cookies!\n",
      "False\n",
      "True\n",
      "False\n",
      "True\n"
     ]
    }
   ],
   "source": [
    "# Boolean Data Type\n",
    "out_of_cookies = True\n",
    "if out_of_cookies:\n",
    "    print('Get more cookies!')\n",
    "\n",
    "# Truthy and Falsy\n",
    "print(bool(0))\n",
    "print(bool(1))\n",
    "# any non-zero number is truthy, any zero number is falsy\n",
    "\n",
    "# Boolean evaluation\n",
    "print(bool(''))\n",
    "print(bool('I have cookies'))\n"
   ]
  },
  {
   "cell_type": "code",
   "execution_count": 28,
   "id": "41478682",
   "metadata": {},
   "outputs": [
    {
     "name": "stdout",
     "output_type": "stream",
     "text": [
      "False\n",
      "0.30000000000000004\n"
     ]
    }
   ],
   "source": [
    "# Floats are approximately an issue\n",
    "print(0.1 + 0.1 + 0.1 == 0.3) # False because of floating point arithmetic\n",
    "print(0.1 + 0.1 + 0.1)\n"
   ]
  },
  {
   "cell_type": "code",
   "execution_count": 20,
   "id": "ae273567",
   "metadata": {},
   "outputs": [
    {
     "name": "stdout",
     "output_type": "stream",
     "text": [
      "False\n",
      "True\n"
     ]
    }
   ],
   "source": [
    "# Create an empty list\n",
    "my_list = []\n",
    "\n",
    "# Check the truthiness of my_list\n",
    "print(bool(my_list))\n",
    "\n",
    "# Append the string 'cookies' to my_list\n",
    "my_list.append('cookies')\n",
    "\n",
    "# Check the truthiness of my_list\n",
    "print(bool(my_list))"
   ]
  },
  {
   "cell_type": "markdown",
   "id": "d3f87d57",
   "metadata": {},
   "source": [
    "#### Sets (unordered data with optimized logic operations)"
   ]
  },
  {
   "cell_type": "code",
   "execution_count": 31,
   "id": "eab6c4d0-f8df-44db-ada9-ad7bd1bb273a",
   "metadata": {},
   "outputs": [
    {
     "name": "stdout",
     "output_type": "stream",
     "text": [
      "{'chocolate chip', 'oatmeal', 'peanut butter'}\n",
      "{'shortbread', 'chocolate chip', 'oatmeal', 'peanut butter'}\n",
      "{'mint chocolate chip', 'chocolate chip', 'oatmeal', 'peanut butter', 'shortbread'}\n",
      "{'chocolate chip', 'oatmeal', 'peanut butter', 'shortbread'}\n",
      "{'oatmeal', 'peanut butter', 'shortbread'}\n",
      "{'sugar', 'chocolate chip', 'oatmeal', 'rich tea', 'digestive', 'hobnob'}\n",
      "set()\n",
      "{'chocolate chip', 'sugar', 'oatmeal'}\n"
     ]
    }
   ],
   "source": [
    "# Set is unique and unordered collection of elements, mutable, and can be created using set() or {}\n",
    "\n",
    "# Create a set of cookie flavors\n",
    "cookie_flavors = {'chocolate chip', 'peanut butter', 'chocolate chip', 'oatmeal'}\n",
    "print(cookie_flavors)\n",
    "\n",
    "# modify set\n",
    "cookie_flavors.add('shortbread')\n",
    "print(cookie_flavors)\n",
    "\n",
    "# updating set\n",
    "more_flavors = {'chocolate chip', 'mint chocolate chip'}\n",
    "cookie_flavors.update(more_flavors)\n",
    "print(cookie_flavors)\n",
    "\n",
    "# remove from set\n",
    "cookie_flavors.remove('mint chocolate chip')\n",
    "print(cookie_flavors)\n",
    "# pop from set\n",
    "cookie_flavors.pop()\n",
    "print(cookie_flavors)\n",
    "\n",
    "# union and intersection\n",
    "us_cookies = {'chocolate chip', 'oatmeal', 'sugar'}\n",
    "uk_cookies = {'hobnob', 'digestive', 'rich tea'}\n",
    "print(us_cookies.union(uk_cookies))\n",
    "print(us_cookies.intersection(uk_cookies))\n",
    "\n",
    "# set difference\n",
    "print(us_cookies.difference(uk_cookies))\n"
   ]
  },
  {
   "cell_type": "markdown",
   "id": "95766da9-0448-4cd6-a216-c92d46012e64",
   "metadata": {},
   "source": [
    "## 4 Advanced Data Types"
   ]
  },
  {
   "cell_type": "markdown",
   "id": "1abf57ec",
   "metadata": {},
   "source": [
    "### Counting made easy"
   ]
  },
  {
   "cell_type": "code",
   "execution_count": 33,
   "id": "35428b50-fff2-41c5-a31f-2cfa90668e22",
   "metadata": {},
   "outputs": [
    {
     "name": "stdout",
     "output_type": "stream",
     "text": [
      "Counter({'chocolate chip': 2, 'peanut butter': 1, 'oatmeal': 1})\n",
      "Counter({'chocolate chip': 3, 'peanut butter': 1, 'oatmeal': 1, 'shortbread': 1})\n",
      "[('chocolate chip', 3)]\n"
     ]
    }
   ],
   "source": [
    "# collections module\n",
    "# Counter\n",
    "from collections import Counter\n",
    "cookie_counts = Counter(['chocolate chip', 'peanut butter', 'chocolate chip', 'oatmeal'])\n",
    "print(cookie_counts)\n",
    "\n",
    "cookie_counts.update(['chocolate chip', 'shortbread'])\n",
    "print(cookie_counts)\n",
    "\n",
    "# most common\n",
    "print(cookie_counts.most_common(1))\n"
   ]
  },
  {
   "cell_type": "markdown",
   "id": "66da59ee-d096-4c98-bab0-1deb7f220960",
   "metadata": {},
   "source": [
    "### Dictionaries of unknown structure - defaultdict"
   ]
  },
  {
   "cell_type": "code",
   "execution_count": 35,
   "id": "71cee68b",
   "metadata": {},
   "outputs": [
    {
     "name": "stdout",
     "output_type": "stream",
     "text": [
      "defaultdict(<class 'int'>, {'chocolate chip': 1})\n"
     ]
    }
   ],
   "source": [
    "### Dictionary Handling\n",
    "# defaultdict\n",
    "from collections import defaultdict\n",
    "cookie_counts = defaultdict(int)\n",
    "cookie_counts['chocolate chip'] += 1\n",
    "print(cookie_counts)"
   ]
  },
  {
   "cell_type": "markdown",
   "id": "280bc1d1",
   "metadata": {},
   "source": [
    "### Named Tuple"
   ]
  },
  {
   "cell_type": "code",
   "execution_count": 37,
   "id": "aa34a9ad",
   "metadata": {},
   "outputs": [
    {
     "name": "stdout",
     "output_type": "stream",
     "text": [
      "chocolate chip\n",
      "1\n"
     ]
    }
   ],
   "source": [
    "# Whats a namedtuple\n",
    "''' A named tuple is a tuple where each position has a name. '''\n",
    "\n",
    "from collections import namedtuple\n",
    "Cookie = namedtuple('Cookie', ['name', 'quantity'])\n",
    "cookie = Cookie('chocolate chip', 1)\n",
    "print(cookie.name)\n",
    "print(cookie.quantity)"
   ]
  },
  {
   "cell_type": "markdown",
   "id": "ba0e5e3f",
   "metadata": {},
   "source": [
    "### Dataclasses"
   ]
  },
  {
   "cell_type": "code",
   "execution_count": 40,
   "id": "45d9f32e",
   "metadata": {},
   "outputs": [
    {
     "name": "stdout",
     "output_type": "stream",
     "text": [
      "chocolate chip\n",
      "1\n",
      "1.20\n"
     ]
    }
   ],
   "source": [
    "# Why user Dataclasses\n",
    "# Dataclasses are a way to create classes that primarily store data. They provide a concise way to create classes that mainly store attributes without any methods.\n",
    "# Dataclasses are mutable, and their attributes are accessed using dot notation.\n",
    "# Dataclasses are created using the @dataclass decorator.\n",
    "# They are easy to convert to tuple or dictionary.\n",
    "# Frozen dataclasses are immutable.\n",
    "\n",
    "from dataclasses import dataclass\n",
    "from decimal import Decimal\n",
    "@dataclass\n",
    "class Cookie:\n",
    "    name: str\n",
    "    cost: Decimal\n",
    "    quantity: int\n",
    "\n",
    "    @property\n",
    "    def total_cost(self):\n",
    "        return self.cost * self.quantity\n",
    "\n",
    "cookie = Cookie('chocolate chip', Decimal(\"1.20\"), 1)\n",
    "print(cookie.name)\n",
    "print(cookie.quantity)\n",
    "print(cookie.total_cost)\n"
   ]
  },
  {
   "cell_type": "code",
   "execution_count": 46,
   "id": "15941a80",
   "metadata": {},
   "outputs": [
    {
     "name": "stdout",
     "output_type": "stream",
     "text": [
      "chocolate chip\n",
      "1\n",
      "1.20\n",
      "cannot assign to field 'quantity'\n"
     ]
    }
   ],
   "source": [
    "# Frozen Dataclasses\n",
    "@dataclass(frozen=True)\n",
    "class Cookie:\n",
    "    name: str\n",
    "    cost: Decimal\n",
    "    quantity: int\n",
    "\n",
    "    @property\n",
    "    def total_cost(self):\n",
    "        return self.cost * self.quantity\n",
    "\n",
    "cookie = Cookie('chocolate chip', Decimal(\"1.20\"), 1)\n",
    "print(cookie.name)\n",
    "print(cookie.quantity)\n",
    "print(cookie.total_cost)\n",
    "\n",
    "# error check\n",
    "from dataclasses import FrozenInstanceError\n",
    "try:\n",
    "    cookie.quantity = 2\n",
    "except FrozenInstanceError as e:\n",
    "    print(e) # FrozenInstanceError"
   ]
  }
 ],
 "metadata": {
  "kernelspec": {
   "display_name": "Python 3 (ipykernel)",
   "language": "python",
   "name": "python3"
  },
  "language_info": {
   "codemirror_mode": {
    "name": "ipython",
    "version": 3
   },
   "file_extension": ".py",
   "mimetype": "text/x-python",
   "name": "python",
   "nbconvert_exporter": "python",
   "pygments_lexer": "ipython3",
   "version": "3.12.5"
  }
 },
 "nbformat": 4,
 "nbformat_minor": 5
}
