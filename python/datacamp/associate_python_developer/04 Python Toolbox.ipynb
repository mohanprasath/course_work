{
 "cells": [
  {
   "cell_type": "markdown",
   "id": "2ca42861-21c4-4240-929c-fe116ff39451",
   "metadata": {},
   "source": [
    "# Python Toolbox"
   ]
  },
  {
   "cell_type": "markdown",
   "id": "385e0f7c-ae5c-43b9-b59e-4132e2dc96e1",
   "metadata": {},
   "source": [
    "## 1 Using iterators in PythonLand"
   ]
  },
  {
   "cell_type": "markdown",
   "id": "12fe3dd5",
   "metadata": {},
   "source": [
    "### Introduction to Iterators"
   ]
  },
  {
   "cell_type": "code",
   "execution_count": null,
   "id": "15fc8147",
   "metadata": {},
   "outputs": [],
   "source": [
    "# Iterating with a for loop\n",
    "employees = ['Nick', 'Lore', 'Hugo']\n",
    "for employee in employees:\n",
    "    print(employee)\n",
    "# Iterating with a while loop\n",
    "index = 0\n",
    "while index < len(employees):\n",
    "    print(employees[index])\n",
    "    index += 1\n",
    "# Iterating with a for loop and range()\n",
    "for i in range(5):\n",
    "    print(i)\n",
    "# Iterating with a for loop and range() with a start value\n",
    "for i in range(2, 5):\n",
    "    print(i)\n",
    "# Iterating with a for loop and range() with a start and step value\n",
    "for i in range(2, 10, 2):\n",
    "    print(i)\n",
    "# Iterating with a for loop and enumerate()\n",
    "for i, employee in enumerate(employees):\n",
    "    print(i, employee)\n",
    "# Iterating with a for loop and zip()\n",
    "days = ['Mon', 'Tue', 'Wed']\n",
    "fruits = ['apple', 'banana', 'orange']\n",
    "drinks = ['coffee', 'tea', 'beer']\n",
    "desserts = ['tiramisu', 'ice cream', 'pie']\n",
    "for day, fruit, drink, dessert in zip(days, fruits, drinks, desserts):\n",
    "    print(day, ': drink', drink, '- eat', fruit, '- enjoy', dessert)\n"
   ]
  },
  {
   "cell_type": "code",
   "execution_count": 6,
   "id": "de2df574",
   "metadata": {},
   "outputs": [
    {
     "name": "stdout",
     "output_type": "stream",
     "text": [
      "<str_ascii_iterator object at 0x104b95cc0>\n",
      "P\n",
      "y\n",
      "t\n",
      "h\n",
      "o\n",
      "n\n"
     ]
    }
   ],
   "source": [
    "# iterators vs iterables\n",
    "# Iterables\n",
    "# A list is an iterable\n",
    "# An iterable is an object that can return an iterator\n",
    "# An iterable is an object that can be iterated over\n",
    "# An iterable is an object that has an __iter__() method that returns an iterator or itself\n",
    "\n",
    "# Iterators\n",
    "# An iterator is an object that represents a stream of data\n",
    "# An iterator is an object that implements the __next__() method\n",
    "# An iterator is an object that can be iterated over\n",
    "# An iterator is an object that has an __iter__() method that returns itself\n",
    "\n",
    "word = 'Python'\n",
    "it = iter(word)\n",
    "print(it)\n",
    "print(next(it))\n",
    "print(next(it))\n",
    "print(next(it))\n",
    "print(next(it))\n",
    "print(next(it))\n",
    "print(next(it))"
   ]
  },
  {
   "cell_type": "code",
   "execution_count": 9,
   "id": "282a0f34",
   "metadata": {},
   "outputs": [
    {
     "name": "stdout",
     "output_type": "stream",
     "text": [
      "P y t h o n\n"
     ]
    }
   ],
   "source": [
    "# Iterating at once with *\n",
    "it = iter(word)\n",
    "print(*it)\n"
   ]
  },
  {
   "cell_type": "code",
   "execution_count": 11,
   "id": "7b5ce42b",
   "metadata": {},
   "outputs": [
    {
     "name": "stdout",
     "output_type": "stream",
     "text": [
      "name : Jess\n",
      "age : 23\n",
      ",user_id,order_value\n",
      "\n"
     ]
    }
   ],
   "source": [
    "# iterating over dictionaries\n",
    "person = {'name': 'Jess', 'age': 23}\n",
    "for key, value in person.items():\n",
    "    print(key, ':', value)\n",
    "\n",
    "# iterating over file connections\n",
    "file = open('sales.csv')\n",
    "it = iter(file)\n",
    "print(next(it))"
   ]
  },
  {
   "cell_type": "markdown",
   "id": "a44bbdc1",
   "metadata": {},
   "source": [
    "### Playing with iterators"
   ]
  },
  {
   "cell_type": "code",
   "execution_count": 14,
   "id": "87a31835",
   "metadata": {},
   "outputs": [
    {
     "name": "stdout",
     "output_type": "stream",
     "text": [
      "(0, 'hawkeye')\n",
      "0 hawkeye\n",
      "1 hotstar\n",
      "2 hulu\n",
      "3 netflix\n",
      "10 hawkeye\n",
      "11 hotstar\n",
      "12 hulu\n",
      "13 netflix\n"
     ]
    }
   ],
   "source": [
    "averages = ['hawkeye', 'hotstar', 'hulu', 'netflix']\n",
    "e = enumerate(averages)\n",
    "print(next(e))\n",
    "\n",
    "# unpacking enumerate\n",
    "e = enumerate(averages)\n",
    "for index, value in e:\n",
    "    print(index, value)\n",
    "\n",
    "# enumerate with a start value\n",
    "e = enumerate(averages, 10)\n",
    "for index, value in e:\n",
    "    print(index, value)"
   ]
  },
  {
   "cell_type": "code",
   "execution_count": 18,
   "id": "a780b0ed",
   "metadata": {},
   "outputs": [
    {
     "name": "stdout",
     "output_type": "stream",
     "text": [
      "<class 'zip'>\n",
      "hawkeye barton\n",
      "hotstar danvers\n",
      "hulu hulu\n",
      "netflix netflix\n",
      "[]\n"
     ]
    }
   ],
   "source": [
    "# using zip\n",
    "avengers = ['hawkeye', 'hotstar', 'hulu', 'netflix']\n",
    "names = ['barton', 'danvers', 'hulu', 'netflix']\n",
    "z = zip(avengers, names)\n",
    "print(type(z))\n",
    "\n",
    "# unpacking zip\n",
    "z = zip(avengers, names)\n",
    "for avenger, name in z:\n",
    "    print(avenger, name)\n",
    "\n",
    "print(list(z)) # its empty because the iterator is exhausted"
   ]
  },
  {
   "cell_type": "code",
   "execution_count": 19,
   "id": "43dc7516",
   "metadata": {},
   "outputs": [
    {
     "name": "stdout",
     "output_type": "stream",
     "text": [
      "('hawkeye', 'barton') ('hotstar', 'danvers') ('hulu', 'hulu') ('netflix', 'netflix')\n"
     ]
    }
   ],
   "source": [
    "# print zip with *\n",
    "z = zip(avengers, names)\n",
    "print(*z)"
   ]
  },
  {
   "cell_type": "markdown",
   "id": "2970ab0b",
   "metadata": {},
   "source": [
    "### Using iterators to load large files into memory"
   ]
  },
  {
   "cell_type": "code",
   "execution_count": 24,
   "id": "21347f72",
   "metadata": {},
   "outputs": [
    {
     "name": "stdout",
     "output_type": "stream",
     "text": [
      "[0    KM37\n",
      "1    PR19\n",
      "2    YU88\n",
      "Name: user_id, dtype: object]\n"
     ]
    }
   ],
   "source": [
    "# Loading data in chunks\n",
    "import pandas as pd\n",
    "result = []\n",
    "for chunk in pd.read_csv('sales.csv', chunksize=1000):\n",
    "    result.append(chunk['user_id'])\n",
    "print(result)"
   ]
  },
  {
   "cell_type": "markdown",
   "id": "c5907aed",
   "metadata": {},
   "source": [
    "## 2 List comprehensions and generators"
   ]
  },
  {
   "cell_type": "code",
   "execution_count": 25,
   "id": "5dc3796a",
   "metadata": {},
   "outputs": [
    {
     "name": "stdout",
     "output_type": "stream",
     "text": [
      "[13, 9, 22, 4, 17]\n"
     ]
    }
   ],
   "source": [
    "numes = [12, 8, 21, 3, 16]\n",
    "new_nums = []\n",
    "for num in numes:\n",
    "    new_nums.append(num + 1)\n",
    "print(new_nums)"
   ]
  },
  {
   "cell_type": "code",
   "execution_count": 26,
   "id": "56bdb56a",
   "metadata": {},
   "outputs": [
    {
     "name": "stdout",
     "output_type": "stream",
     "text": [
      "[13, 9, 22, 4, 17]\n"
     ]
    }
   ],
   "source": [
    "# a list comprehensions - a concise way to create lists\n",
    "nums = [12, 8, 21, 3, 16]\n",
    "new_nums = [num + 1 for num in nums]\n",
    "print(new_nums)"
   ]
  },
  {
   "cell_type": "code",
   "execution_count": 27,
   "id": "55808ccf",
   "metadata": {},
   "outputs": [
    {
     "name": "stdout",
     "output_type": "stream",
     "text": [
      "[0, 1, 2, 3, 4, 5, 6, 7, 8, 9]\n"
     ]
    }
   ],
   "source": [
    "# List comprehensions with range()\n",
    "result = [num for num in range(10)]\n",
    "print(result)"
   ]
  },
  {
   "cell_type": "code",
   "execution_count": null,
   "id": "c01b437a",
   "metadata": {},
   "outputs": [],
   "source": [
    "# List comprehensions\n",
    "''' \n",
    "Collapse for loops for building lists into a single line\n",
    "Components\n",
    "- Iterable\n",
    "- Iterator variable (represent members of iterable)\n",
    "- Output expression\n",
    "'''"
   ]
  },
  {
   "cell_type": "code",
   "execution_count": 28,
   "id": "f3b7791c",
   "metadata": {},
   "outputs": [
    {
     "name": "stdout",
     "output_type": "stream",
     "text": [
      "[(0, 6), (0, 7), (1, 6), (1, 7)]\n"
     ]
    }
   ],
   "source": [
    "# Nested loops (1)\n",
    "pairs_1 = []\n",
    "for num1 in range(0, 2):\n",
    "    for num2 in range(6, 8):\n",
    "        pairs_1.append((num1, num2))\n",
    "print(pairs_1)\n"
   ]
  },
  {
   "cell_type": "code",
   "execution_count": 29,
   "id": "2bc29b1f",
   "metadata": {},
   "outputs": [
    {
     "name": "stdout",
     "output_type": "stream",
     "text": [
      "[(0, 6), (0, 7), (1, 6), (1, 7)]\n"
     ]
    }
   ],
   "source": [
    "# Nested Loops (2)\n",
    "pairs_2 = [(num1, num2) for num1 in range(0, 2) for num2 in range(6, 8)]\n",
    "print(pairs_2)"
   ]
  },
  {
   "cell_type": "markdown",
   "id": "e795f384",
   "metadata": {},
   "source": [
    "### Advanced comprehensions"
   ]
  },
  {
   "cell_type": "code",
   "execution_count": 30,
   "id": "c3ce3b30",
   "metadata": {},
   "outputs": [
    {
     "name": "stdout",
     "output_type": "stream",
     "text": [
      "[(0, 6), (0, 7), (1, 6), (1, 7)]\n"
     ]
    }
   ],
   "source": [
    "# Conditionals in comprehensions\n",
    "pairs = [(num1, num2) for num1 in range(0, 2) for num2 in range(6, 8) if num1 != num2]\n",
    "print(pairs)"
   ]
  },
  {
   "cell_type": "code",
   "execution_count": 31,
   "id": "d9d8a5a0",
   "metadata": {},
   "outputs": [
    {
     "data": {
      "text/plain": [
       "[0, 0, 2, 0, 4, 0, 6, 0, 8, 0]"
      ]
     },
     "execution_count": 31,
     "metadata": {},
     "output_type": "execute_result"
    }
   ],
   "source": [
    "[nums if nums % 2 == 0  else 0 for nums in range(10)]"
   ]
  },
  {
   "cell_type": "markdown",
   "id": "3cc00932",
   "metadata": {},
   "source": [
    "#### Dict comprehensions"
   ]
  },
  {
   "cell_type": "code",
   "execution_count": 32,
   "id": "3c706328",
   "metadata": {},
   "outputs": [
    {
     "data": {
      "text/plain": [
       "{0: 0, 1: 0, 2: 4, 3: 0, 4: 16, 5: 0, 6: 36, 7: 0, 8: 64, 9: 0}"
      ]
     },
     "execution_count": 32,
     "metadata": {},
     "output_type": "execute_result"
    }
   ],
   "source": [
    "{num: num ** 2 if num % 2 == 0 else 0 for num in range(10)}"
   ]
  },
  {
   "cell_type": "markdown",
   "id": "5eba1808",
   "metadata": {},
   "source": [
    "#### Introduction to generator expressions"
   ]
  },
  {
   "cell_type": "code",
   "execution_count": 38,
   "id": "180c370d",
   "metadata": {},
   "outputs": [
    {
     "name": "stdout",
     "output_type": "stream",
     "text": [
      "[0, 1, 2, 3, 4, 5, 6, 7, 8, 9]\n",
      "<generator object num_sequence at 0x11a544640>\n",
      "0\n",
      "1\n",
      "2\n",
      "3\n",
      "4\n",
      "5\n",
      "6\n",
      "7\n",
      "8\n",
      "9\n",
      "0\n",
      "1\n",
      "2\n",
      "3\n",
      "4\n"
     ]
    }
   ],
   "source": [
    "# whats is a generator\n",
    "'''\n",
    "Generator is a function that produces a sequence of results instead of a single value.\n",
    "A generator looks like a function but behaves like an iterator.\n",
    "\n",
    "- Produces items one at a time\n",
    "- Suspends execution between calls\n",
    "- State of the function is remembered\n",
    "- Functions return a single value\n",
    "- Generators return a sequence of values\n",
    "\n",
    "'''\n",
    "# a simple list comprehension\n",
    "result = [num for num in range(10)]\n",
    "print(result)\n",
    "\n",
    "# a simple generator function\n",
    "def num_sequence(n):\n",
    "    \"\"\"Generate values from 0 to n\"\"\"\n",
    "    i = 0\n",
    "    while i < n:\n",
    "        yield i\n",
    "        i += 1\n",
    "\n",
    "result = num_sequence(10)\n",
    "print(result) # <generator object num_sequence at 0x7f8b1b3b3d60>\n",
    "\n",
    "# printing the values of a generator\n",
    "for value in result:\n",
    "    print(value)\n",
    "\n",
    "# another way of printing the values of a generator using next()\n",
    "result = num_sequence(10)\n",
    "print(next(result))\n",
    "print(next(result))\n",
    "print(next(result))\n",
    "print(next(result))\n",
    "print(next(result))"
   ]
  },
  {
   "cell_type": "code",
   "execution_count": 39,
   "id": "5e5b646e",
   "metadata": {},
   "outputs": [
    {
     "name": "stdout",
     "output_type": "stream",
     "text": [
      "<generator object <genexpr> at 0x11a571080>\n",
      "0\n",
      "2\n",
      "4\n",
      "6\n"
     ]
    }
   ],
   "source": [
    "# conditionals in generator expressions\n",
    "even_nums = (num for num in range(10) if num % 2 == 0)\n",
    "print(even_nums)\n",
    "print(next(even_nums))\n",
    "print(next(even_nums))\n",
    "print(next(even_nums))\n",
    "print(next(even_nums))\n"
   ]
  },
  {
   "cell_type": "code",
   "execution_count": 40,
   "id": "661a8fbd",
   "metadata": {},
   "outputs": [
    {
     "name": "stdout",
     "output_type": "stream",
     "text": [
      "[0, 1, 2, 3, 4]\n"
     ]
    }
   ],
   "source": [
    "# Generator functions\n",
    "\n",
    "def num_sequence(n):\n",
    "    \"\"\"Generate values from 0 to n\"\"\"\n",
    "    i = 0\n",
    "    while i < n:\n",
    "        yield i\n",
    "        i += 1\n",
    "\n",
    "result = num_sequence(5)\n",
    "print(list(result)) # [0, 1, 2, 3, 4]\n",
    "\n",
    "# Generator functions are a better way to write generators. \n",
    "# Memory efficient\n",
    "# Easier to read\n",
    "# Requires less code\n",
    "# Generator functions are functions that, instead of using return, use yield to return results one at a time, suspending and resuming.\n"
   ]
  },
  {
   "cell_type": "markdown",
   "id": "64852c48",
   "metadata": {},
   "source": [
    "## 3 Bringing it all together - Case Study"
   ]
  },
  {
   "cell_type": "code",
   "execution_count": null,
   "id": "3b249f0e",
   "metadata": {},
   "outputs": [],
   "source": [
    "# World Bank data\n",
    "\n",
    "# Data on world economies for over half a century\n",
    "# Data is available in CSV format\n",
    "'''\n",
    "Indicators\n",
    "- Population\n",
    "- Electricity consumption\n",
    "- CO2 emissions\n",
    "- Literacy rates\n",
    "- Unemployment\n",
    "- Mortality rates\n",
    "'''\n",
    "\n",
    "# Revision\n",
    "# User-defined functions\n",
    "# Iterators and iterables\n",
    "# List comprehensions\n",
    "# Generators and generator functions\n"
   ]
  }
 ],
 "metadata": {
  "kernelspec": {
   "display_name": "Python 3 (ipykernel)",
   "language": "python",
   "name": "python3"
  },
  "language_info": {
   "codemirror_mode": {
    "name": "ipython",
    "version": 3
   },
   "file_extension": ".py",
   "mimetype": "text/x-python",
   "name": "python",
   "nbconvert_exporter": "python",
   "pygments_lexer": "ipython3",
   "version": "3.12.5"
  }
 },
 "nbformat": 4,
 "nbformat_minor": 5
}
