{
 "cells": [
  {
   "cell_type": "markdown",
   "id": "4a8dc7bc-bee4-4dd4-ab61-04e255e2a726",
   "metadata": {},
   "source": [
    "# Working with Dates and Times in Python"
   ]
  },
  {
   "cell_type": "markdown",
   "id": "8412ff29-69f4-4e45-bfc6-489a1061f598",
   "metadata": {},
   "source": [
    "## 1 Dates and Calendars"
   ]
  },
  {
   "cell_type": "code",
   "execution_count": 1,
   "id": "aae7d740-f89f-4e8a-b989-0e317960b11b",
   "metadata": {},
   "outputs": [
    {
     "name": "stdout",
     "output_type": "stream",
     "text": [
      "[datetime.date(2016, 10, 7), datetime.date(2017, 6, 21)]\n",
      "2016-10-07\n",
      "2017-06-21\n",
      "2016\n",
      "10\n",
      "7\n"
     ]
    }
   ],
   "source": [
    "# creating date objects\n",
    "\n",
    "from datetime import date\n",
    "\n",
    "# create a date object containing the current date\n",
    "two_hurricanes_dates = [date(2016, 10, 7), date(2017, 6, 21)]\n",
    "print(two_hurricanes_dates)\n",
    "print(two_hurricanes_dates[0])\n",
    "print(two_hurricanes_dates[1])\n",
    "\n",
    "# attributes of a date object\n",
    "print(two_hurricanes_dates[0].year)\n",
    "print(two_hurricanes_dates[0].month)\n",
    "print(two_hurricanes_dates[0].day)\n",
    "\n",
    "# Finding the weekday of a date\n",
    "print(two_hurricanes_dates[0].weekday())\n"
   ]
  },
  {
   "cell_type": "markdown",
   "id": "2553c3f7",
   "metadata": {},
   "source": [
    "### Math with Dates"
   ]
  },
  {
   "cell_type": "code",
   "execution_count": null,
   "id": "24d9d2f1",
   "metadata": {},
   "outputs": [],
   "source": []
  }
 ],
 "metadata": {
  "kernelspec": {
   "display_name": "Python 3 (ipykernel)",
   "language": "python",
   "name": "python3"
  },
  "language_info": {
   "codemirror_mode": {
    "name": "ipython",
    "version": 3
   },
   "file_extension": ".py",
   "mimetype": "text/x-python",
   "name": "python",
   "nbconvert_exporter": "python",
   "pygments_lexer": "ipython3",
   "version": "3.12.5"
  }
 },
 "nbformat": 4,
 "nbformat_minor": 5
}
